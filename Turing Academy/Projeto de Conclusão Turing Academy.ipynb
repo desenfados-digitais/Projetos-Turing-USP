{
 "cells": [
  {
   "cell_type": "markdown",
   "id": "2b8b772e",
   "metadata": {},
   "source": [
    "# Projeto de Conclusão Turing Academy"
   ]
  },
  {
   "cell_type": "markdown",
   "id": "b310b26f",
   "metadata": {},
   "source": [
    "Este projeto tem como finalidade mostrar a conclusão do Turing Academy, que consolida a entrada do membro no Turing USP."
   ]
  },
  {
   "cell_type": "markdown",
   "id": "cd54dc5c",
   "metadata": {},
   "source": [
    "## Promoção de funcionários"
   ]
  },
  {
   "cell_type": "markdown",
   "id": "fe3581b6",
   "metadata": {},
   "source": [
    "### Preâmbulo"
   ]
  },
  {
   "cell_type": "code",
   "execution_count": 105,
   "id": "c09bcdff",
   "metadata": {},
   "outputs": [],
   "source": [
    "# Imports\n",
    "\n",
    "import numpy as np\n",
    "import pandas as pd\n",
    "import matplotlib.pyplot as plt\n",
    "import seaborn as sns\n",
    "from sklearn import preprocessing\n",
    "from sklearn.model_selection import train_test_split\n",
    "from sklearn.metrics import confusion_matrix\n",
    "from sklearn.ensemble import RandomForestClassifier\n",
    "from sklearn.metrics import accuracy_score"
   ]
  },
  {
   "cell_type": "code",
   "execution_count": 106,
   "id": "4fa18417",
   "metadata": {},
   "outputs": [],
   "source": [
    "# Carregando datasets\n",
    "\n",
    "dftrain = pd.read_csv('train.csv')\n",
    "dftest = pd.read_csv('test.csv')\n",
    "\n",
    "dftrain.set_index('employee_id',inplace=True)\n",
    "dftest.set_index('employee_id',inplace=True)\n",
    "\n",
    "# Tamanho dos plots\n",
    "\n",
    "sns.set(rc={\"figure.figsize\":(10, 4)})"
   ]
  },
  {
   "cell_type": "code",
   "execution_count": 107,
   "id": "76b8853f",
   "metadata": {},
   "outputs": [
    {
     "data": {
      "text/html": [
       "<div>\n",
       "<style scoped>\n",
       "    .dataframe tbody tr th:only-of-type {\n",
       "        vertical-align: middle;\n",
       "    }\n",
       "\n",
       "    .dataframe tbody tr th {\n",
       "        vertical-align: top;\n",
       "    }\n",
       "\n",
       "    .dataframe thead th {\n",
       "        text-align: right;\n",
       "    }\n",
       "</style>\n",
       "<table border=\"1\" class=\"dataframe\">\n",
       "  <thead>\n",
       "    <tr style=\"text-align: right;\">\n",
       "      <th></th>\n",
       "      <th>department</th>\n",
       "      <th>region</th>\n",
       "      <th>education</th>\n",
       "      <th>gender</th>\n",
       "      <th>recruitment_channel</th>\n",
       "      <th>no_of_trainings</th>\n",
       "      <th>age</th>\n",
       "      <th>previous_year_rating</th>\n",
       "      <th>length_of_service</th>\n",
       "      <th>awards_won?</th>\n",
       "      <th>avg_training_score</th>\n",
       "      <th>is_promoted</th>\n",
       "    </tr>\n",
       "    <tr>\n",
       "      <th>employee_id</th>\n",
       "      <th></th>\n",
       "      <th></th>\n",
       "      <th></th>\n",
       "      <th></th>\n",
       "      <th></th>\n",
       "      <th></th>\n",
       "      <th></th>\n",
       "      <th></th>\n",
       "      <th></th>\n",
       "      <th></th>\n",
       "      <th></th>\n",
       "      <th></th>\n",
       "    </tr>\n",
       "  </thead>\n",
       "  <tbody>\n",
       "    <tr>\n",
       "      <th>65438</th>\n",
       "      <td>Sales &amp; Marketing</td>\n",
       "      <td>region_7</td>\n",
       "      <td>Master's &amp; above</td>\n",
       "      <td>f</td>\n",
       "      <td>sourcing</td>\n",
       "      <td>1.0</td>\n",
       "      <td>35</td>\n",
       "      <td>5.0</td>\n",
       "      <td>8</td>\n",
       "      <td>0</td>\n",
       "      <td>49.0</td>\n",
       "      <td>0</td>\n",
       "    </tr>\n",
       "    <tr>\n",
       "      <th>65141</th>\n",
       "      <td>Operations</td>\n",
       "      <td>region_22</td>\n",
       "      <td>Bachelor's</td>\n",
       "      <td>m</td>\n",
       "      <td>other</td>\n",
       "      <td>1.0</td>\n",
       "      <td>30</td>\n",
       "      <td>5.0</td>\n",
       "      <td>4</td>\n",
       "      <td>0</td>\n",
       "      <td>60.0</td>\n",
       "      <td>0</td>\n",
       "    </tr>\n",
       "    <tr>\n",
       "      <th>7513</th>\n",
       "      <td>Sales &amp; Marketing</td>\n",
       "      <td>region_19</td>\n",
       "      <td>Bachelor's</td>\n",
       "      <td>m</td>\n",
       "      <td>sourcing</td>\n",
       "      <td>1.0</td>\n",
       "      <td>34</td>\n",
       "      <td>3.0</td>\n",
       "      <td>7</td>\n",
       "      <td>0</td>\n",
       "      <td>50.0</td>\n",
       "      <td>0</td>\n",
       "    </tr>\n",
       "    <tr>\n",
       "      <th>2542</th>\n",
       "      <td>Sales &amp; Marketing</td>\n",
       "      <td>region_23</td>\n",
       "      <td>Bachelor's</td>\n",
       "      <td>m</td>\n",
       "      <td>other</td>\n",
       "      <td>2.0</td>\n",
       "      <td>39</td>\n",
       "      <td>1.0</td>\n",
       "      <td>10</td>\n",
       "      <td>0</td>\n",
       "      <td>50.0</td>\n",
       "      <td>0</td>\n",
       "    </tr>\n",
       "    <tr>\n",
       "      <th>48945</th>\n",
       "      <td>Technology</td>\n",
       "      <td>region_26</td>\n",
       "      <td>Bachelor's</td>\n",
       "      <td>m</td>\n",
       "      <td>other</td>\n",
       "      <td>1.0</td>\n",
       "      <td>45</td>\n",
       "      <td>3.0</td>\n",
       "      <td>2</td>\n",
       "      <td>0</td>\n",
       "      <td>73.0</td>\n",
       "      <td>0</td>\n",
       "    </tr>\n",
       "  </tbody>\n",
       "</table>\n",
       "</div>"
      ],
      "text/plain": [
       "                    department     region         education gender  \\\n",
       "employee_id                                                          \n",
       "65438        Sales & Marketing   region_7  Master's & above      f   \n",
       "65141               Operations  region_22        Bachelor's      m   \n",
       "7513         Sales & Marketing  region_19        Bachelor's      m   \n",
       "2542         Sales & Marketing  region_23        Bachelor's      m   \n",
       "48945               Technology  region_26        Bachelor's      m   \n",
       "\n",
       "            recruitment_channel  no_of_trainings  age  previous_year_rating  \\\n",
       "employee_id                                                                   \n",
       "65438                  sourcing              1.0   35                   5.0   \n",
       "65141                     other              1.0   30                   5.0   \n",
       "7513                   sourcing              1.0   34                   3.0   \n",
       "2542                      other              2.0   39                   1.0   \n",
       "48945                     other              1.0   45                   3.0   \n",
       "\n",
       "             length_of_service  awards_won?  avg_training_score  is_promoted  \n",
       "employee_id                                                                   \n",
       "65438                        8            0                49.0            0  \n",
       "65141                        4            0                60.0            0  \n",
       "7513                         7            0                50.0            0  \n",
       "2542                        10            0                50.0            0  \n",
       "48945                        2            0                73.0            0  "
      ]
     },
     "execution_count": 107,
     "metadata": {},
     "output_type": "execute_result"
    }
   ],
   "source": [
    "dftrain.head()"
   ]
  },
  {
   "cell_type": "code",
   "execution_count": 108,
   "id": "9f7dc2f5",
   "metadata": {},
   "outputs": [
    {
     "data": {
      "text/html": [
       "<div>\n",
       "<style scoped>\n",
       "    .dataframe tbody tr th:only-of-type {\n",
       "        vertical-align: middle;\n",
       "    }\n",
       "\n",
       "    .dataframe tbody tr th {\n",
       "        vertical-align: top;\n",
       "    }\n",
       "\n",
       "    .dataframe thead th {\n",
       "        text-align: right;\n",
       "    }\n",
       "</style>\n",
       "<table border=\"1\" class=\"dataframe\">\n",
       "  <thead>\n",
       "    <tr style=\"text-align: right;\">\n",
       "      <th></th>\n",
       "      <th>department</th>\n",
       "      <th>region</th>\n",
       "      <th>education</th>\n",
       "      <th>gender</th>\n",
       "      <th>recruitment_channel</th>\n",
       "      <th>no_of_trainings</th>\n",
       "      <th>age</th>\n",
       "      <th>previous_year_rating</th>\n",
       "      <th>length_of_service</th>\n",
       "      <th>awards_won?</th>\n",
       "      <th>avg_training_score</th>\n",
       "    </tr>\n",
       "    <tr>\n",
       "      <th>employee_id</th>\n",
       "      <th></th>\n",
       "      <th></th>\n",
       "      <th></th>\n",
       "      <th></th>\n",
       "      <th></th>\n",
       "      <th></th>\n",
       "      <th></th>\n",
       "      <th></th>\n",
       "      <th></th>\n",
       "      <th></th>\n",
       "      <th></th>\n",
       "    </tr>\n",
       "  </thead>\n",
       "  <tbody>\n",
       "    <tr>\n",
       "      <th>8724</th>\n",
       "      <td>Technology</td>\n",
       "      <td>region_26</td>\n",
       "      <td>Bachelor's</td>\n",
       "      <td>m</td>\n",
       "      <td>sourcing</td>\n",
       "      <td>1.0</td>\n",
       "      <td>24</td>\n",
       "      <td>NaN</td>\n",
       "      <td>1</td>\n",
       "      <td>0</td>\n",
       "      <td>77</td>\n",
       "    </tr>\n",
       "    <tr>\n",
       "      <th>74430</th>\n",
       "      <td>HR</td>\n",
       "      <td>region_4</td>\n",
       "      <td>Bachelor's</td>\n",
       "      <td>f</td>\n",
       "      <td>other</td>\n",
       "      <td>1.0</td>\n",
       "      <td>31</td>\n",
       "      <td>3.0</td>\n",
       "      <td>5</td>\n",
       "      <td>0</td>\n",
       "      <td>51</td>\n",
       "    </tr>\n",
       "    <tr>\n",
       "      <th>72255</th>\n",
       "      <td>Sales &amp; Marketing</td>\n",
       "      <td>region_13</td>\n",
       "      <td>Bachelor's</td>\n",
       "      <td>m</td>\n",
       "      <td>other</td>\n",
       "      <td>1.0</td>\n",
       "      <td>31</td>\n",
       "      <td>1.0</td>\n",
       "      <td>4</td>\n",
       "      <td>0</td>\n",
       "      <td>47</td>\n",
       "    </tr>\n",
       "    <tr>\n",
       "      <th>38562</th>\n",
       "      <td>Procurement</td>\n",
       "      <td>region_2</td>\n",
       "      <td>Bachelor's</td>\n",
       "      <td>f</td>\n",
       "      <td>other</td>\n",
       "      <td>NaN</td>\n",
       "      <td>31</td>\n",
       "      <td>2.0</td>\n",
       "      <td>9</td>\n",
       "      <td>0</td>\n",
       "      <td>65</td>\n",
       "    </tr>\n",
       "    <tr>\n",
       "      <th>64486</th>\n",
       "      <td>Finance</td>\n",
       "      <td>region_29</td>\n",
       "      <td>Bachelor's</td>\n",
       "      <td>m</td>\n",
       "      <td>sourcing</td>\n",
       "      <td>1.0</td>\n",
       "      <td>30</td>\n",
       "      <td>4.0</td>\n",
       "      <td>7</td>\n",
       "      <td>0</td>\n",
       "      <td>61</td>\n",
       "    </tr>\n",
       "  </tbody>\n",
       "</table>\n",
       "</div>"
      ],
      "text/plain": [
       "                    department     region   education gender  \\\n",
       "employee_id                                                    \n",
       "8724                Technology  region_26  Bachelor's      m   \n",
       "74430                       HR   region_4  Bachelor's      f   \n",
       "72255        Sales & Marketing  region_13  Bachelor's      m   \n",
       "38562              Procurement   region_2  Bachelor's      f   \n",
       "64486                  Finance  region_29  Bachelor's      m   \n",
       "\n",
       "            recruitment_channel  no_of_trainings  age  previous_year_rating  \\\n",
       "employee_id                                                                   \n",
       "8724                   sourcing              1.0   24                   NaN   \n",
       "74430                     other              1.0   31                   3.0   \n",
       "72255                     other              1.0   31                   1.0   \n",
       "38562                     other              NaN   31                   2.0   \n",
       "64486                  sourcing              1.0   30                   4.0   \n",
       "\n",
       "             length_of_service  awards_won?  avg_training_score  \n",
       "employee_id                                                      \n",
       "8724                         1            0                  77  \n",
       "74430                        5            0                  51  \n",
       "72255                        4            0                  47  \n",
       "38562                        9            0                  65  \n",
       "64486                        7            0                  61  "
      ]
     },
     "execution_count": 108,
     "metadata": {},
     "output_type": "execute_result"
    }
   ],
   "source": [
    "dftest.head()"
   ]
  },
  {
   "cell_type": "markdown",
   "id": "4235f400",
   "metadata": {},
   "source": [
    "### Limpeza"
   ]
  },
  {
   "cell_type": "markdown",
   "id": "a458c5bc",
   "metadata": {},
   "source": [
    "Vamos unir os dois para facilitar! Para podermos separar depois, coloco os dados de teste como tendo ``'is_promoted' = -1``."
   ]
  },
  {
   "cell_type": "code",
   "execution_count": 109,
   "id": "ae15b04d",
   "metadata": {},
   "outputs": [],
   "source": [
    "dftest['is_promoted'] = -1"
   ]
  },
  {
   "cell_type": "code",
   "execution_count": 110,
   "id": "c03806c2",
   "metadata": {},
   "outputs": [],
   "source": [
    "df = pd.concat([dftrain,dftest])"
   ]
  },
  {
   "cell_type": "code",
   "execution_count": 111,
   "id": "fa6e679a",
   "metadata": {},
   "outputs": [
    {
     "data": {
      "text/html": [
       "<div>\n",
       "<style scoped>\n",
       "    .dataframe tbody tr th:only-of-type {\n",
       "        vertical-align: middle;\n",
       "    }\n",
       "\n",
       "    .dataframe tbody tr th {\n",
       "        vertical-align: top;\n",
       "    }\n",
       "\n",
       "    .dataframe thead th {\n",
       "        text-align: right;\n",
       "    }\n",
       "</style>\n",
       "<table border=\"1\" class=\"dataframe\">\n",
       "  <thead>\n",
       "    <tr style=\"text-align: right;\">\n",
       "      <th></th>\n",
       "      <th>no_of_trainings</th>\n",
       "      <th>age</th>\n",
       "      <th>previous_year_rating</th>\n",
       "      <th>length_of_service</th>\n",
       "      <th>awards_won?</th>\n",
       "      <th>avg_training_score</th>\n",
       "      <th>is_promoted</th>\n",
       "    </tr>\n",
       "  </thead>\n",
       "  <tbody>\n",
       "    <tr>\n",
       "      <th>count</th>\n",
       "      <td>71379.000000</td>\n",
       "      <td>78298.000000</td>\n",
       "      <td>72362.000000</td>\n",
       "      <td>78298.000000</td>\n",
       "      <td>78298.000000</td>\n",
       "      <td>70840.000000</td>\n",
       "      <td>78298.000000</td>\n",
       "    </tr>\n",
       "    <tr>\n",
       "      <th>mean</th>\n",
       "      <td>1.256672</td>\n",
       "      <td>201.898120</td>\n",
       "      <td>3.332219</td>\n",
       "      <td>5.848974</td>\n",
       "      <td>0.023053</td>\n",
       "      <td>63.430957</td>\n",
       "      <td>-0.240389</td>\n",
       "    </tr>\n",
       "    <tr>\n",
       "      <th>std</th>\n",
       "      <td>0.610376</td>\n",
       "      <td>4538.125963</td>\n",
       "      <td>1.260982</td>\n",
       "      <td>4.248070</td>\n",
       "      <td>0.150073</td>\n",
       "      <td>13.465914</td>\n",
       "      <td>0.549402</td>\n",
       "    </tr>\n",
       "    <tr>\n",
       "      <th>min</th>\n",
       "      <td>1.000000</td>\n",
       "      <td>-32.000000</td>\n",
       "      <td>1.000000</td>\n",
       "      <td>1.000000</td>\n",
       "      <td>0.000000</td>\n",
       "      <td>39.000000</td>\n",
       "      <td>-1.000000</td>\n",
       "    </tr>\n",
       "    <tr>\n",
       "      <th>25%</th>\n",
       "      <td>1.000000</td>\n",
       "      <td>29.000000</td>\n",
       "      <td>3.000000</td>\n",
       "      <td>3.000000</td>\n",
       "      <td>0.000000</td>\n",
       "      <td>51.000000</td>\n",
       "      <td>-1.000000</td>\n",
       "    </tr>\n",
       "    <tr>\n",
       "      <th>50%</th>\n",
       "      <td>1.000000</td>\n",
       "      <td>33.000000</td>\n",
       "      <td>3.000000</td>\n",
       "      <td>5.000000</td>\n",
       "      <td>0.000000</td>\n",
       "      <td>60.000000</td>\n",
       "      <td>0.000000</td>\n",
       "    </tr>\n",
       "    <tr>\n",
       "      <th>75%</th>\n",
       "      <td>1.000000</td>\n",
       "      <td>39.000000</td>\n",
       "      <td>4.000000</td>\n",
       "      <td>7.000000</td>\n",
       "      <td>0.000000</td>\n",
       "      <td>76.000000</td>\n",
       "      <td>0.000000</td>\n",
       "    </tr>\n",
       "    <tr>\n",
       "      <th>max</th>\n",
       "      <td>10.000000</td>\n",
       "      <td>123456.000000</td>\n",
       "      <td>5.000000</td>\n",
       "      <td>37.000000</td>\n",
       "      <td>1.000000</td>\n",
       "      <td>99.000000</td>\n",
       "      <td>1.000000</td>\n",
       "    </tr>\n",
       "  </tbody>\n",
       "</table>\n",
       "</div>"
      ],
      "text/plain": [
       "       no_of_trainings            age  previous_year_rating  \\\n",
       "count     71379.000000   78298.000000          72362.000000   \n",
       "mean          1.256672     201.898120              3.332219   \n",
       "std           0.610376    4538.125963              1.260982   \n",
       "min           1.000000     -32.000000              1.000000   \n",
       "25%           1.000000      29.000000              3.000000   \n",
       "50%           1.000000      33.000000              3.000000   \n",
       "75%           1.000000      39.000000              4.000000   \n",
       "max          10.000000  123456.000000              5.000000   \n",
       "\n",
       "       length_of_service   awards_won?  avg_training_score   is_promoted  \n",
       "count       78298.000000  78298.000000        70840.000000  78298.000000  \n",
       "mean            5.848974      0.023053           63.430957     -0.240389  \n",
       "std             4.248070      0.150073           13.465914      0.549402  \n",
       "min             1.000000      0.000000           39.000000     -1.000000  \n",
       "25%             3.000000      0.000000           51.000000     -1.000000  \n",
       "50%             5.000000      0.000000           60.000000      0.000000  \n",
       "75%             7.000000      0.000000           76.000000      0.000000  \n",
       "max            37.000000      1.000000           99.000000      1.000000  "
      ]
     },
     "execution_count": 111,
     "metadata": {},
     "output_type": "execute_result"
    }
   ],
   "source": [
    "df.describe()"
   ]
  },
  {
   "cell_type": "code",
   "execution_count": 112,
   "id": "052229ae",
   "metadata": {},
   "outputs": [
    {
     "data": {
      "text/html": [
       "<div>\n",
       "<style scoped>\n",
       "    .dataframe tbody tr th:only-of-type {\n",
       "        vertical-align: middle;\n",
       "    }\n",
       "\n",
       "    .dataframe tbody tr th {\n",
       "        vertical-align: top;\n",
       "    }\n",
       "\n",
       "    .dataframe thead th {\n",
       "        text-align: right;\n",
       "    }\n",
       "</style>\n",
       "<table border=\"1\" class=\"dataframe\">\n",
       "  <thead>\n",
       "    <tr style=\"text-align: right;\">\n",
       "      <th></th>\n",
       "      <th>department</th>\n",
       "      <th>region</th>\n",
       "      <th>education</th>\n",
       "      <th>gender</th>\n",
       "      <th>recruitment_channel</th>\n",
       "    </tr>\n",
       "  </thead>\n",
       "  <tbody>\n",
       "    <tr>\n",
       "      <th>count</th>\n",
       "      <td>78298</td>\n",
       "      <td>78298</td>\n",
       "      <td>74855</td>\n",
       "      <td>78298</td>\n",
       "      <td>78298</td>\n",
       "    </tr>\n",
       "    <tr>\n",
       "      <th>unique</th>\n",
       "      <td>10</td>\n",
       "      <td>35</td>\n",
       "      <td>3</td>\n",
       "      <td>5</td>\n",
       "      <td>3</td>\n",
       "    </tr>\n",
       "    <tr>\n",
       "      <th>top</th>\n",
       "      <td>Sales &amp; Marketing</td>\n",
       "      <td>region_2</td>\n",
       "      <td>Bachelor's</td>\n",
       "      <td>m</td>\n",
       "      <td>other</td>\n",
       "    </tr>\n",
       "    <tr>\n",
       "      <th>freq</th>\n",
       "      <td>24155</td>\n",
       "      <td>17642</td>\n",
       "      <td>52247</td>\n",
       "      <td>50232</td>\n",
       "      <td>43524</td>\n",
       "    </tr>\n",
       "  </tbody>\n",
       "</table>\n",
       "</div>"
      ],
      "text/plain": [
       "               department    region   education gender recruitment_channel\n",
       "count               78298     78298       74855  78298               78298\n",
       "unique                 10        35           3      5                   3\n",
       "top     Sales & Marketing  region_2  Bachelor's      m               other\n",
       "freq                24155     17642       52247  50232               43524"
      ]
     },
     "execution_count": 112,
     "metadata": {},
     "output_type": "execute_result"
    }
   ],
   "source": [
    "df.describe(include=['object'])"
   ]
  },
  {
   "cell_type": "markdown",
   "id": "04046678",
   "metadata": {},
   "source": [
    "Percebemos que gênero tem 5 valores, que a menor idade é `-32`, e a maior, `123456`! Vamos investigar depois."
   ]
  },
  {
   "cell_type": "markdown",
   "id": "2630e768",
   "metadata": {},
   "source": [
    "Vamos verificar os valores nulos:"
   ]
  },
  {
   "cell_type": "code",
   "execution_count": 113,
   "id": "c92f2e34",
   "metadata": {},
   "outputs": [
    {
     "data": {
      "text/plain": [
       "department                 0\n",
       "region                     0\n",
       "education               3443\n",
       "gender                     0\n",
       "recruitment_channel        0\n",
       "no_of_trainings         6919\n",
       "age                        0\n",
       "previous_year_rating    5936\n",
       "length_of_service          0\n",
       "awards_won?                0\n",
       "avg_training_score      7458\n",
       "is_promoted                0\n",
       "dtype: int64"
      ]
     },
     "execution_count": 113,
     "metadata": {},
     "output_type": "execute_result"
    }
   ],
   "source": [
    "df.isnull().sum()"
   ]
  },
  {
   "cell_type": "markdown",
   "id": "7623ad39",
   "metadata": {},
   "source": [
    "Há muitos valores nulos! Vamos investigar na parte de visualizações. "
   ]
  },
  {
   "cell_type": "markdown",
   "id": "5241c863",
   "metadata": {},
   "source": [
    "#### Visualizações"
   ]
  },
  {
   "cell_type": "markdown",
   "id": "d788beb9",
   "metadata": {},
   "source": [
    "##### Gênero"
   ]
  },
  {
   "cell_type": "markdown",
   "id": "ef4196d9",
   "metadata": {},
   "source": [
    "Gênero não tem valores nulos, mas temos alguns valores estranhos:"
   ]
  },
  {
   "cell_type": "code",
   "execution_count": 114,
   "id": "63ae3a3e",
   "metadata": {},
   "outputs": [
    {
     "data": {
      "text/plain": [
       "array(['f', 'm', 'MALE', 'fEMALE', 'eu sou homem hetero homossexual!'],\n",
       "      dtype=object)"
      ]
     },
     "execution_count": 114,
     "metadata": {},
     "output_type": "execute_result"
    }
   ],
   "source": [
    "df['gender'].unique()"
   ]
  },
  {
   "cell_type": "markdown",
   "id": "dcab7420",
   "metadata": {},
   "source": [
    "Vamos formatar para `Male` e `Female`: "
   ]
  },
  {
   "cell_type": "code",
   "execution_count": 115,
   "id": "237e95f8",
   "metadata": {},
   "outputs": [],
   "source": [
    "df['gender'].replace('m','Male',inplace=True)\n",
    "df['gender'].replace('MALE','Male',inplace=True)\n",
    "df['gender'].replace('eu sou homem hetero homossexual!','Male',inplace=True)\n",
    "\n",
    "df['gender'].replace('fEMALE','Female',inplace=True)\n",
    "df['gender'].replace('f','Female',inplace=True)"
   ]
  },
  {
   "cell_type": "code",
   "execution_count": 116,
   "id": "3582e4fc",
   "metadata": {},
   "outputs": [
    {
     "data": {
      "text/plain": [
       "array(['Female', 'Male'], dtype=object)"
      ]
     },
     "execution_count": 116,
     "metadata": {},
     "output_type": "execute_result"
    }
   ],
   "source": [
    "df['gender'].unique()"
   ]
  },
  {
   "cell_type": "markdown",
   "id": "6dbf07be",
   "metadata": {},
   "source": [
    "E plotar:"
   ]
  },
  {
   "cell_type": "code",
   "execution_count": 117,
   "id": "61efd1ba",
   "metadata": {},
   "outputs": [
    {
     "data": {
      "text/plain": [
       "<AxesSubplot:xlabel='gender', ylabel='count'>"
      ]
     },
     "execution_count": 117,
     "metadata": {},
     "output_type": "execute_result"
    },
    {
     "data": {
      "image/png": "[encoded data removed]",
      "text/plain": [
       "<Figure size 720x288 with 1 Axes>"
      ]
     },
     "metadata": {},
     "output_type": "display_data"
    }
   ],
   "source": [
    "sns.countplot(x = df['gender'])"
   ]
  },
  {
   "cell_type": "markdown",
   "id": "76bf743c",
   "metadata": {},
   "source": [
    "Parece uma distribuição mais adequada. Infelizmente, há uma maioria de homens (quase o dobro!), o que pode ser um problema ao fazer predições: se há mais homens que mulheres, e as promoções são distribuídas uniformemente entre os gêneros, então haverão mais homens promovidos que mulheres!"
   ]
  },
  {
   "cell_type": "markdown",
   "id": "5e4d360a",
   "metadata": {},
   "source": [
    "##### Idade"
   ]
  },
  {
   "cell_type": "code",
   "execution_count": 118,
   "id": "87a6a4fa",
   "metadata": {},
   "outputs": [
    {
     "data": {
      "text/plain": [
       "array([    35,     30,     34,     39,     45,     31,     33,     28,\n",
       "           32,     49,     37,     38,     41,     27,     29,     26,\n",
       "           24,     57,     40,     42,     23,     59,     44,     50,\n",
       "           56,     20,     25,     47,     36,     46,     60,     43,\n",
       "           22,     54,     58, 123456,     48,     53,     55,     51,\n",
       "           52,     21,    -32], dtype=int64)"
      ]
     },
     "execution_count": 118,
     "metadata": {},
     "output_type": "execute_result"
    }
   ],
   "source": [
    "df['age'].unique()"
   ]
  },
  {
   "cell_type": "markdown",
   "id": "610dd74b",
   "metadata": {},
   "source": [
    "Possivelmente, esses valores estranhos foram colocados por engano. Vou assumir que o caso `-32` era `32`; e que o `123456` era `56`."
   ]
  },
  {
   "cell_type": "code",
   "execution_count": 119,
   "id": "43b9ae03",
   "metadata": {},
   "outputs": [],
   "source": [
    "df['age'].replace(-32,32,inplace=True)\n",
    "df['age'].replace(123456,56,inplace=True)"
   ]
  },
  {
   "cell_type": "code",
   "execution_count": 120,
   "id": "11e74eea",
   "metadata": {},
   "outputs": [
    {
     "data": {
      "text/plain": [
       "array([35, 30, 34, 39, 45, 31, 33, 28, 32, 49, 37, 38, 41, 27, 29, 26, 24,\n",
       "       57, 40, 42, 23, 59, 44, 50, 56, 20, 25, 47, 36, 46, 60, 43, 22, 54,\n",
       "       58, 48, 53, 55, 51, 52, 21], dtype=int64)"
      ]
     },
     "execution_count": 120,
     "metadata": {},
     "output_type": "execute_result"
    }
   ],
   "source": [
    "df['age'].unique()"
   ]
  },
  {
   "cell_type": "code",
   "execution_count": 121,
   "id": "32eba0c9",
   "metadata": {},
   "outputs": [
    {
     "data": {
      "text/plain": [
       "<AxesSubplot:xlabel='age', ylabel='count'>"
      ]
     },
     "execution_count": 121,
     "metadata": {},
     "output_type": "execute_result"
    },
    {
     "data": {
      "image/png": "[encoded data removed]",
      "text/plain": [
       "<Figure size 720x288 with 1 Axes>"
      ]
     },
     "metadata": {},
     "output_type": "display_data"
    }
   ],
   "source": [
    "sns.countplot(x=df['age'])"
   ]
  },
  {
   "cell_type": "markdown",
   "id": "f710d4c0",
   "metadata": {},
   "source": [
    "O restante das idades está correto. A distribuição é aproximadamente gaussiana, o que é esperado; e as idades majoritárias são simplesmente as idades de pessoas que já são adultas e longe da idade de aposentadoria, o que também é esperado."
   ]
  },
  {
   "cell_type": "markdown",
   "id": "7cf087c7",
   "metadata": {},
   "source": [
    "##### Educação"
   ]
  },
  {
   "cell_type": "markdown",
   "id": "18bd35fc",
   "metadata": {},
   "source": [
    "Temos muitos valores nulos nessa _feature_, então, precisamos investigar:"
   ]
  },
  {
   "cell_type": "code",
   "execution_count": 122,
   "id": "5100d6fa",
   "metadata": {},
   "outputs": [
    {
     "data": {
      "text/plain": [
       "array([\"Master's & above\", \"Bachelor's\", nan, 'Below Secondary'],\n",
       "      dtype=object)"
      ]
     },
     "execution_count": 122,
     "metadata": {},
     "output_type": "execute_result"
    }
   ],
   "source": [
    "df['education'].unique()"
   ]
  },
  {
   "cell_type": "markdown",
   "id": "db0c19dc",
   "metadata": {},
   "source": [
    "Vamos preencher os valores nulos com algo que aparecerá no gráfico:"
   ]
  },
  {
   "cell_type": "code",
   "execution_count": 123,
   "id": "1898e05f",
   "metadata": {},
   "outputs": [],
   "source": [
    "df['education'].fillna('Unknown',inplace=True)"
   ]
  },
  {
   "cell_type": "code",
   "execution_count": 124,
   "id": "1a8e9f66",
   "metadata": {},
   "outputs": [
    {
     "data": {
      "text/plain": [
       "<AxesSubplot:xlabel='education', ylabel='count'>"
      ]
     },
     "execution_count": 124,
     "metadata": {},
     "output_type": "execute_result"
    },
    {
     "data": {
      "image/png": "[encoded data removed]",
      "text/plain": [
       "<Figure size 720x288 with 1 Axes>"
      ]
     },
     "metadata": {},
     "output_type": "display_data"
    }
   ],
   "source": [
    "sns.countplot(x = df['education'])"
   ]
  },
  {
   "cell_type": "markdown",
   "id": "c5a2206c",
   "metadata": {},
   "source": [
    "É uma quantidade muito significativa de valores nulos. Estranhamente, falta dado para _\"Secondary\"_ (semelhante ao ensino médio); os dados saltam diretamente de abaixo do ensino médio (_\"Below Secondary\"_) para o bacharelado.\n",
    "\n",
    "Além disso, falamos de uma _empresa_, que certamente teria todos os dados sobre educação de seus funcionários, pois aparecem em seus currículos. Poderíamos ignorar esses dados desconhecidos, mas, por esses motivos - e por ser uma parcela não desprezível - irei os rotular de _\"Secondary\"_.\n",
    "\n",
    "Nisso, suponho que os dados faltantes tenham advindo de algum _bug_ no momento de passar os dados para a tabela e, portanto, não se trata de uma simples falta de informação."
   ]
  },
  {
   "cell_type": "code",
   "execution_count": 125,
   "id": "005c3e5e",
   "metadata": {},
   "outputs": [],
   "source": [
    "df['education'].replace('Unknown','Secondary',inplace=True)"
   ]
  },
  {
   "cell_type": "code",
   "execution_count": 126,
   "id": "f955e4bc",
   "metadata": {},
   "outputs": [
    {
     "data": {
      "text/plain": [
       "<AxesSubplot:xlabel='education', ylabel='count'>"
      ]
     },
     "execution_count": 126,
     "metadata": {},
     "output_type": "execute_result"
    },
    {
     "data": {
      "image/png": "[encoded data removed]",
      "text/plain": [
       "<Figure size 720x288 with 1 Axes>"
      ]
     },
     "metadata": {},
     "output_type": "display_data"
    }
   ],
   "source": [
    "sns.countplot(x = df['education'])"
   ]
  },
  {
   "cell_type": "markdown",
   "id": "887cb8b6",
   "metadata": {},
   "source": [
    "##### Número de treinamentos no ano anterior"
   ]
  },
  {
   "cell_type": "markdown",
   "id": "676e5348",
   "metadata": {},
   "source": [
    "Minha suspeita é que os valores nulos em `'no_of_trainings'` sejam equivalentes ao zero, ou seja, pessoas que não fizeram nenhum treinamento no ano anterior."
   ]
  },
  {
   "cell_type": "code",
   "execution_count": 127,
   "id": "127d52f2",
   "metadata": {},
   "outputs": [
    {
     "data": {
      "text/plain": [
       "array([ 1.,  2., nan,  3.,  4.,  7.,  5.,  6.,  8., 10.,  9.])"
      ]
     },
     "execution_count": 127,
     "metadata": {},
     "output_type": "execute_result"
    }
   ],
   "source": [
    "df['no_of_trainings'].unique()"
   ]
  },
  {
   "cell_type": "markdown",
   "id": "267aa4df",
   "metadata": {},
   "source": [
    "Vamos checar se o zero faz parte dos valores possíveis:"
   ]
  },
  {
   "cell_type": "code",
   "execution_count": 128,
   "id": "a47bc2ba",
   "metadata": {},
   "outputs": [
    {
     "data": {
      "text/plain": [
       "False"
      ]
     },
     "execution_count": 128,
     "metadata": {},
     "output_type": "execute_result"
    }
   ],
   "source": [
    "0 in df['no_of_trainings'].unique()"
   ]
  },
  {
   "cell_type": "markdown",
   "id": "737cea5f",
   "metadata": {},
   "source": [
    "Bom, com um dataset desse tamanho, seria muito improvável que não haja nenhum funcionário que não fez nenhum treinamento no ano anterior, que é a implicação de assumir que esses valores nulos são apenas informação faltante."
   ]
  },
  {
   "cell_type": "markdown",
   "id": "b1f399fe",
   "metadata": {},
   "source": [
    "É possível que haja uma política interna obrigando que todos os funcionários realizem no mínimo um treinamento por ano, ou que nem todos os valores sejam zeros - alguns podem ser, de fato, informação faltante enquanto outros indicam zero. No entanto, estaríamos fazendo hipóteses demais acerca dos dados!"
   ]
  },
  {
   "cell_type": "markdown",
   "id": "f5b74daa",
   "metadata": {},
   "source": [
    "Então, vamos assumir que indicam zero:"
   ]
  },
  {
   "cell_type": "code",
   "execution_count": 129,
   "id": "0768fd4e",
   "metadata": {},
   "outputs": [],
   "source": [
    "df['no_of_trainings'].fillna(0,inplace=True)"
   ]
  },
  {
   "cell_type": "code",
   "execution_count": 130,
   "id": "13a9a4f3",
   "metadata": {},
   "outputs": [
    {
     "data": {
      "text/plain": [
       "<AxesSubplot:xlabel='no_of_trainings', ylabel='count'>"
      ]
     },
     "execution_count": 130,
     "metadata": {},
     "output_type": "execute_result"
    },
    {
     "data": {
      "image/png": "[encoded data removed]",
      "text/plain": [
       "<Figure size 720x288 with 1 Axes>"
      ]
     },
     "metadata": {},
     "output_type": "display_data"
    }
   ],
   "source": [
    "sns.countplot(x = df['no_of_trainings'])"
   ]
  },
  {
   "cell_type": "markdown",
   "id": "5df6ab61",
   "metadata": {},
   "source": [
    "Observamos quase nenhum funcionário com mais de quatro treinamentos, e que há uma concentração em um único treinamento."
   ]
  },
  {
   "cell_type": "markdown",
   "id": "1a537bbc",
   "metadata": {},
   "source": [
    "Antes de prosseguirmos, devemos checar se o fato de haverem pessoas com zero treinamentos no ano anterior tem alguma relação com serem funcionárias que estão na empresa a apenas um ano (logo, possuem zero treinamentos! Note que não há funcionários a zero anos - seriam pessoas que acabaram de entrar - pois ``'length_of_service'`` não possui nulos e nem valores zero). "
   ]
  },
  {
   "cell_type": "code",
   "execution_count": 131,
   "id": "b96f3b8f",
   "metadata": {},
   "outputs": [
    {
     "data": {
      "text/html": [
       "<div>\n",
       "<style scoped>\n",
       "    .dataframe tbody tr th:only-of-type {\n",
       "        vertical-align: middle;\n",
       "    }\n",
       "\n",
       "    .dataframe tbody tr th {\n",
       "        vertical-align: top;\n",
       "    }\n",
       "\n",
       "    .dataframe thead th {\n",
       "        text-align: right;\n",
       "    }\n",
       "</style>\n",
       "<table border=\"1\" class=\"dataframe\">\n",
       "  <thead>\n",
       "    <tr style=\"text-align: right;\">\n",
       "      <th></th>\n",
       "      <th>department</th>\n",
       "      <th>region</th>\n",
       "      <th>education</th>\n",
       "      <th>gender</th>\n",
       "      <th>recruitment_channel</th>\n",
       "      <th>no_of_trainings</th>\n",
       "      <th>age</th>\n",
       "      <th>previous_year_rating</th>\n",
       "      <th>length_of_service</th>\n",
       "      <th>awards_won?</th>\n",
       "      <th>avg_training_score</th>\n",
       "      <th>is_promoted</th>\n",
       "    </tr>\n",
       "    <tr>\n",
       "      <th>employee_id</th>\n",
       "      <th></th>\n",
       "      <th></th>\n",
       "      <th></th>\n",
       "      <th></th>\n",
       "      <th></th>\n",
       "      <th></th>\n",
       "      <th></th>\n",
       "      <th></th>\n",
       "      <th></th>\n",
       "      <th></th>\n",
       "      <th></th>\n",
       "      <th></th>\n",
       "    </tr>\n",
       "  </thead>\n",
       "  <tbody>\n",
       "    <tr>\n",
       "      <th>40097</th>\n",
       "      <td>Operations</td>\n",
       "      <td>region_2</td>\n",
       "      <td>Bachelor's</td>\n",
       "      <td>Female</td>\n",
       "      <td>other</td>\n",
       "      <td>0.0</td>\n",
       "      <td>23</td>\n",
       "      <td>4.0</td>\n",
       "      <td>2</td>\n",
       "      <td>0</td>\n",
       "      <td>NaN</td>\n",
       "      <td>0</td>\n",
       "    </tr>\n",
       "    <tr>\n",
       "      <th>18013</th>\n",
       "      <td>Procurement</td>\n",
       "      <td>region_2</td>\n",
       "      <td>Master's &amp; above</td>\n",
       "      <td>Female</td>\n",
       "      <td>sourcing</td>\n",
       "      <td>0.0</td>\n",
       "      <td>56</td>\n",
       "      <td>3.0</td>\n",
       "      <td>12</td>\n",
       "      <td>0</td>\n",
       "      <td>NaN</td>\n",
       "      <td>0</td>\n",
       "    </tr>\n",
       "    <tr>\n",
       "      <th>68082</th>\n",
       "      <td>Sales &amp; Marketing</td>\n",
       "      <td>region_2</td>\n",
       "      <td>Master's &amp; above</td>\n",
       "      <td>Female</td>\n",
       "      <td>sourcing</td>\n",
       "      <td>0.0</td>\n",
       "      <td>41</td>\n",
       "      <td>1.0</td>\n",
       "      <td>12</td>\n",
       "      <td>0</td>\n",
       "      <td>NaN</td>\n",
       "      <td>0</td>\n",
       "    </tr>\n",
       "    <tr>\n",
       "      <th>35420</th>\n",
       "      <td>Operations</td>\n",
       "      <td>region_2</td>\n",
       "      <td>Bachelor's</td>\n",
       "      <td>Female</td>\n",
       "      <td>other</td>\n",
       "      <td>0.0</td>\n",
       "      <td>44</td>\n",
       "      <td>4.0</td>\n",
       "      <td>13</td>\n",
       "      <td>0</td>\n",
       "      <td>NaN</td>\n",
       "      <td>0</td>\n",
       "    </tr>\n",
       "    <tr>\n",
       "      <th>41983</th>\n",
       "      <td>Operations</td>\n",
       "      <td>region_2</td>\n",
       "      <td>Bachelor's</td>\n",
       "      <td>Female</td>\n",
       "      <td>sourcing</td>\n",
       "      <td>0.0</td>\n",
       "      <td>33</td>\n",
       "      <td>3.0</td>\n",
       "      <td>5</td>\n",
       "      <td>0</td>\n",
       "      <td>NaN</td>\n",
       "      <td>0</td>\n",
       "    </tr>\n",
       "  </tbody>\n",
       "</table>\n",
       "</div>"
      ],
      "text/plain": [
       "                    department    region         education  gender  \\\n",
       "employee_id                                                          \n",
       "40097               Operations  region_2        Bachelor's  Female   \n",
       "18013              Procurement  region_2  Master's & above  Female   \n",
       "68082        Sales & Marketing  region_2  Master's & above  Female   \n",
       "35420               Operations  region_2        Bachelor's  Female   \n",
       "41983               Operations  region_2        Bachelor's  Female   \n",
       "\n",
       "            recruitment_channel  no_of_trainings  age  previous_year_rating  \\\n",
       "employee_id                                                                   \n",
       "40097                     other              0.0   23                   4.0   \n",
       "18013                  sourcing              0.0   56                   3.0   \n",
       "68082                  sourcing              0.0   41                   1.0   \n",
       "35420                     other              0.0   44                   4.0   \n",
       "41983                  sourcing              0.0   33                   3.0   \n",
       "\n",
       "             length_of_service  awards_won?  avg_training_score  is_promoted  \n",
       "employee_id                                                                   \n",
       "40097                        2            0                 NaN            0  \n",
       "18013                       12            0                 NaN            0  \n",
       "68082                       12            0                 NaN            0  \n",
       "35420                       13            0                 NaN            0  \n",
       "41983                        5            0                 NaN            0  "
      ]
     },
     "execution_count": 131,
     "metadata": {},
     "output_type": "execute_result"
    }
   ],
   "source": [
    "df.query('length_of_service != 1 & no_of_trainings == 0').head()"
   ]
  },
  {
   "cell_type": "markdown",
   "id": "c7b7aafd",
   "metadata": {},
   "source": [
    "Como filtramos para ver se há pessoas com 0 treinamentos no ano anterior e mais de um ano de serviço, sabemos que nossa suposição estava incorreta: há funcionários veteranos que não realizaram treinamento."
   ]
  },
  {
   "cell_type": "markdown",
   "id": "cdc1623b",
   "metadata": {},
   "source": [
    "##### Nota do ano anterior"
   ]
  },
  {
   "cell_type": "markdown",
   "id": "f5d0e6c0",
   "metadata": {},
   "source": [
    "Aqui, vamos realizar um procedimento parecido com a anterior:"
   ]
  },
  {
   "cell_type": "code",
   "execution_count": 132,
   "id": "02e29455",
   "metadata": {},
   "outputs": [
    {
     "data": {
      "text/plain": [
       "array([ 5.,  3.,  1.,  4., nan,  2.])"
      ]
     },
     "execution_count": 132,
     "metadata": {},
     "output_type": "execute_result"
    }
   ],
   "source": [
    "df['previous_year_rating'].unique()"
   ]
  },
  {
   "cell_type": "code",
   "execution_count": 133,
   "id": "b57f8dca",
   "metadata": {},
   "outputs": [
    {
     "data": {
      "text/plain": [
       "False"
      ]
     },
     "execution_count": 133,
     "metadata": {},
     "output_type": "execute_result"
    }
   ],
   "source": [
    "0 in df['previous_year_rating'].unique()"
   ]
  },
  {
   "cell_type": "markdown",
   "id": "db0abb22",
   "metadata": {},
   "source": [
    "Poderíamos supor que trata-se apenas de uma nota zero, contudo, há uma posibilidade: pessoas que estão há apenas um ano na empresa não obtiveram suas notas ainda! Para descobrir, verificamos quantas pessoas não possuem nota e estão a mais de um ano na empresa:"
   ]
  },
  {
   "cell_type": "code",
   "execution_count": 134,
   "id": "2c971874",
   "metadata": {},
   "outputs": [
    {
     "data": {
      "text/plain": [
       "0"
      ]
     },
     "execution_count": 134,
     "metadata": {},
     "output_type": "execute_result"
    }
   ],
   "source": [
    "len(df.query('previous_year_rating.isnull() & length_of_service > 1'))"
   ]
  },
  {
   "cell_type": "markdown",
   "id": "055a7957",
   "metadata": {},
   "source": [
    "Zero! Então, nossa hipótese estava correta. Poderíamos descartar essas pessoas, se fosse o caso que pessoas com apenas um ano de serviço não pudessem ser promovidas - todavia:"
   ]
  },
  {
   "cell_type": "code",
   "execution_count": 135,
   "id": "2700d0ca",
   "metadata": {},
   "outputs": [
    {
     "data": {
      "text/plain": [
       "339"
      ]
     },
     "execution_count": 135,
     "metadata": {},
     "output_type": "execute_result"
    }
   ],
   "source": [
    "len(df.query('previous_year_rating.isnull() & is_promoted == 1'))"
   ]
  },
  {
   "cell_type": "markdown",
   "id": "376e21b0",
   "metadata": {},
   "source": [
    "Há uma pequena quantidade de pessoas sem nota que foram promovidas! É raro, mas indica que é possível. Portanto, para que o modelo seja capaz de analisar esses casos, vamos trasnformar em zero:"
   ]
  },
  {
   "cell_type": "code",
   "execution_count": 136,
   "id": "9a2b6f7b",
   "metadata": {},
   "outputs": [],
   "source": [
    "df['previous_year_rating'].fillna(0,inplace=True)"
   ]
  },
  {
   "cell_type": "code",
   "execution_count": 137,
   "id": "932a3552",
   "metadata": {},
   "outputs": [
    {
     "data": {
      "text/plain": [
       "<AxesSubplot:xlabel='previous_year_rating', ylabel='count'>"
      ]
     },
     "execution_count": 137,
     "metadata": {},
     "output_type": "execute_result"
    },
    {
     "data": {
      "image/png": "[encoded data removed]",
      "text/plain": [
       "<Figure size 720x288 with 1 Axes>"
      ]
     },
     "metadata": {},
     "output_type": "display_data"
    }
   ],
   "source": [
    "sns.countplot(x = df['previous_year_rating'])"
   ]
  },
  {
   "cell_type": "markdown",
   "id": "7ccaedd5",
   "metadata": {},
   "source": [
    "Nada de surpreendente por aqui. A maioria dos funcionários está na média. É possível que a empresa use um sistema análogo a _\"estrelas\"_ de hotéis, onde é possível ter apenas notas inteiras e a menor nota é 1."
   ]
  },
  {
   "cell_type": "markdown",
   "id": "5ed67c09",
   "metadata": {},
   "source": [
    "##### Nota média de treinamento"
   ]
  },
  {
   "cell_type": "code",
   "execution_count": 138,
   "id": "3fd8c6d0",
   "metadata": {},
   "outputs": [
    {
     "data": {
      "text/plain": [
       "array([49., 60., 50., 73., 85., 59., 63., 83., 54., 77., 80., 84., 51.,\n",
       "       46., nan, 57., 70., 68., 79., 44., 72., 61., 48., 58., 87., 47.,\n",
       "       52., 88., 71., 65., 62., 53., 75., 78., 91., 82., 69., 74., 90.,\n",
       "       86., 92., 67., 89., 56., 76., 81., 45., 39., 94., 93., 64., 66.,\n",
       "       42., 96., 40., 55., 99., 43., 95., 97., 41., 98.])"
      ]
     },
     "execution_count": 138,
     "metadata": {},
     "output_type": "execute_result"
    }
   ],
   "source": [
    "df['avg_training_score'].unique()"
   ]
  },
  {
   "cell_type": "code",
   "execution_count": 139,
   "id": "22172e13",
   "metadata": {},
   "outputs": [
    {
     "data": {
      "text/plain": [
       "2612"
      ]
     },
     "execution_count": 139,
     "metadata": {},
     "output_type": "execute_result"
    }
   ],
   "source": [
    "len(df.query('avg_training_score.isnull() & no_of_trainings != 0'))"
   ]
  },
  {
   "cell_type": "markdown",
   "id": "a70ae85d",
   "metadata": {},
   "source": [
    "No caso dessas notas, elas são referentes a treinamentos **atuais** e não **completos** (diferente da ``no_of_trainings``). Por isso há muitas pessoas que têm ``no_of_trainings != 0`` e mesmo assim não possuem notas."
   ]
  },
  {
   "cell_type": "markdown",
   "id": "7d9f67c8",
   "metadata": {},
   "source": [
    "Vamos ver quantos dados são relativos ao total. Para tanto, vou colocá-los como zero e plotar:"
   ]
  },
  {
   "cell_type": "code",
   "execution_count": 140,
   "id": "8896eabd",
   "metadata": {},
   "outputs": [],
   "source": [
    "df['avg_training_score'].fillna(0.0,inplace=True)"
   ]
  },
  {
   "cell_type": "code",
   "execution_count": 141,
   "id": "6195cf7e",
   "metadata": {},
   "outputs": [
    {
     "data": {
      "image/png": "[encoded data removed]",
      "text/plain": [
       "<Figure size 2880x1440 with 1 Axes>"
      ]
     },
     "metadata": {},
     "output_type": "display_data"
    }
   ],
   "source": [
    "sns.set(rc={\"figure.figsize\":(40, 20)})\n",
    "\n",
    "sns.countplot(x=df['avg_training_score'])\n",
    "\n",
    "sns.set(rc={\"figure.figsize\":(10, 4)})"
   ]
  },
  {
   "cell_type": "markdown",
   "id": "d6868f00",
   "metadata": {},
   "source": [
    "Talvez fique um pouco difícil de ler, mas fica claro que o zero é uma avassaladora maioria, logo, não podemos ignorá-los! Porém, se nossa hipótese estiver correta e trata-se apenas de pessoas que não fizeram nenhum treinamento, podemos supor que, em outra situação, essas pessoas teriam feito algum treinamento naquele ano. "
   ]
  },
  {
   "cell_type": "markdown",
   "id": "cf9708f5",
   "metadata": {},
   "source": [
    "Nessa suposição, essas pessoas teriam _alguma_ nota. Então, vamos \"fingir\" que essas pessoas tem uma nota. Para tanto, devemos atribuir a cada pessoa uma nota individual. Mas, como fazer isso? A forma mais adequada seria distribuir aleatoriamente; no entanto, precisamos determinar uma distribuição de probabilidades."
   ]
  },
  {
   "cell_type": "markdown",
   "id": "27ee6da9",
   "metadata": {},
   "source": [
    "Há, é claro, muitas formas de fazer isso. Podemos realizar uma análise matemática profunda e detalhada da distribuição das notas que temos, e criar assim uma distribuição muito precisa. Porém, como trata-se de um projeto para treino, irei usar uma distribuição gaussiana - que é distribuição contínua que faz o _mínimo_ de hipóteses adicionais - com mínimo ``39.0``, máximo ``99.0``, centrada na média aritmética das notas e com o mesmo desvio padrão delas. Como só podemos ter valores inteiros, mas a gaussiana é uma distribuição contínua (valores reais), vamos arredondá-los."
   ]
  },
  {
   "cell_type": "code",
   "execution_count": 142,
   "id": "264a0ae9",
   "metadata": {},
   "outputs": [],
   "source": [
    "np.random.seed(1) # Aqui definimos uma seed, para que os valores aleatórios sejam sempre os mesmos permitindo reprodutibilidade.\n",
    "\n",
    "total = len(df[df['avg_training_score']==0]) # Número de dados aleatórios que precisaremos.\n",
    "\n",
    "media = df[df['avg_training_score']!=0]['avg_training_score'].mean() # Média dos valores de média de notas\n",
    "\n",
    "desv = df[df['avg_training_score']!=0]['avg_training_score'].std() # Desvio padrão dos mesmos dados.\n",
    "\n",
    "# Abaixo, calculo os valores da gaussiana. Porém, não é possível limitá-la (ela é definida no espaço todo), então, gero\n",
    "# um excedente de valores e depois jogo fora os que estão além do limite, após os arredondar. Se sobrarem alguns, também\n",
    "# os descarto.\n",
    "\n",
    "notas_aleatorias =  np.random.normal(media,desv,int(total*2)) # Calculando os valores com excedente.\n",
    "\n",
    "notas_aleatorias = np.round(notas_aleatorias) # Arredondando.\n",
    "\n",
    "notas_aleatorias = notas_aleatorias[(notas_aleatorias >= 39) & (notas_aleatorias <= 99)] # Cortando os fora dos limites.\n",
    "\n",
    "notas_aleatorias = notas_aleatorias[:total] # Removendo os que sobraram."
   ]
  },
  {
   "cell_type": "markdown",
   "id": "db95ccd4",
   "metadata": {},
   "source": [
    "Agora, separamos a coluna com os valores nulos e a substituímos por uma coluna com os valores que geramos!"
   ]
  },
  {
   "cell_type": "code",
   "execution_count": 143,
   "id": "b49ac13b",
   "metadata": {},
   "outputs": [],
   "source": [
    "df1 = df[df['avg_training_score']==0].copy()\n",
    "\n",
    "df = df.drop(df1.index)"
   ]
  },
  {
   "cell_type": "markdown",
   "id": "5f951848",
   "metadata": {},
   "source": [
    "Aqui, ploto os dados sem os valores nulos, para referência:"
   ]
  },
  {
   "cell_type": "code",
   "execution_count": 144,
   "id": "f3c295e9",
   "metadata": {},
   "outputs": [
    {
     "data": {
      "image/png": "[encoded data removed]",
      "text/plain": [
       "<Figure size 2880x1440 with 1 Axes>"
      ]
     },
     "metadata": {},
     "output_type": "display_data"
    }
   ],
   "source": [
    "sns.set(rc={\"figure.figsize\":(40, 20)})\n",
    "\n",
    "sns.countplot(x=df['avg_training_score'])\n",
    "\n",
    "sns.set(rc={\"figure.figsize\":(10, 4)})"
   ]
  },
  {
   "cell_type": "code",
   "execution_count": 145,
   "id": "8c506b87",
   "metadata": {},
   "outputs": [],
   "source": [
    "df1.drop('avg_training_score',axis=1,inplace=True)"
   ]
  },
  {
   "cell_type": "code",
   "execution_count": 146,
   "id": "a27dc200",
   "metadata": {},
   "outputs": [],
   "source": [
    "df1['avg_training_score'] = pd.Series(notas_aleatorias,df1.index)"
   ]
  },
  {
   "cell_type": "code",
   "execution_count": 147,
   "id": "054c7933",
   "metadata": {},
   "outputs": [],
   "source": [
    "df = pd.concat([df,df1])"
   ]
  },
  {
   "cell_type": "code",
   "execution_count": 148,
   "id": "7b75da18",
   "metadata": {},
   "outputs": [
    {
     "data": {
      "image/png": "[encoded data removed]",
      "text/plain": [
       "<Figure size 2880x1440 with 1 Axes>"
      ]
     },
     "metadata": {},
     "output_type": "display_data"
    }
   ],
   "source": [
    "sns.set(rc={\"figure.figsize\":(40, 20)})\n",
    "\n",
    "sns.countplot(x=df['avg_training_score'])\n",
    "\n",
    "sns.set(rc={\"figure.figsize\":(10, 4)})"
   ]
  },
  {
   "cell_type": "markdown",
   "id": "efefb09e",
   "metadata": {},
   "source": [
    "Ao final, obtivemos uma distribuição semelhante à que começamos, porém com mais valores! Dessa forma, integramos os valores nulos sem precisar descartar."
   ]
  },
  {
   "cell_type": "markdown",
   "id": "2de09b8e",
   "metadata": {},
   "source": [
    "Sobre a distribuição, é um tanto semelhante a uma sobreposição de quatro gaussianas, como se houvessem alguns _\"patamares\"_ onde se concentram os funcionários. Podemos utilizar esses patamares como categorias, se desejarmos!\n",
    "\n",
    "Além disso, o fato de iniciar em ``39.0`` indica um possível \"ponto de corte\" para esses treinamentos; uma nota mínima para que o treinamento seja considerado completo - não indicando, portanto, qualquer propriedade relevante."
   ]
  },
  {
   "cell_type": "markdown",
   "id": "0ac21aaa",
   "metadata": {},
   "source": [
    "#### Ajustes Finais"
   ]
  },
  {
   "cell_type": "markdown",
   "id": "d0ea3d44",
   "metadata": {},
   "source": [
    "Ainda há alguns outros pequenos detalhes nas features categóricas:"
   ]
  },
  {
   "cell_type": "code",
   "execution_count": 149,
   "id": "8c531aec",
   "metadata": {},
   "outputs": [
    {
     "data": {
      "text/plain": [
       "array(['Sales & Marketing', 'Operations', 'Technology', 'Analytics',\n",
       "       'R&D', 'Finance', 'Procurement', 'HR', 'Legal',\n",
       "       'quem trouxe quenga'], dtype=object)"
      ]
     },
     "execution_count": 149,
     "metadata": {},
     "output_type": "execute_result"
    }
   ],
   "source": [
    "df['department'].unique()"
   ]
  },
  {
   "cell_type": "markdown",
   "id": "a20e01dc",
   "metadata": {},
   "source": [
    "Claramente temos um dado errado! Porém:"
   ]
  },
  {
   "cell_type": "code",
   "execution_count": 150,
   "id": "31ad7343",
   "metadata": {},
   "outputs": [
    {
     "name": "stdout",
     "output_type": "stream",
     "text": [
      "0.041 %\n"
     ]
    }
   ],
   "source": [
    "print(np.round(100*len(df[df['department']=='quem trouxe quenga'])/len(df['department']),3),'%')"
   ]
  },
  {
   "cell_type": "markdown",
   "id": "406e39ee",
   "metadata": {},
   "source": [
    "São apenas ``0.041%`` do total de dados! Então, não perderemos muito se só os apagarmos. Infelizmente, não há uma forma clara de organizar esses dados em uma das categorias, como era possível nos outros. Então:"
   ]
  },
  {
   "cell_type": "code",
   "execution_count": 151,
   "id": "1d20c956",
   "metadata": {},
   "outputs": [],
   "source": [
    "df1 = df[df['department'] == 'quem trouxe quenga']\n",
    "\n",
    "df.drop(df1.index,inplace=True)"
   ]
  },
  {
   "cell_type": "code",
   "execution_count": 152,
   "id": "476b3e76",
   "metadata": {},
   "outputs": [
    {
     "data": {
      "text/plain": [
       "array(['Sales & Marketing', 'Operations', 'Technology', 'Analytics',\n",
       "       'R&D', 'Finance', 'Procurement', 'HR', 'Legal'], dtype=object)"
      ]
     },
     "execution_count": 152,
     "metadata": {},
     "output_type": "execute_result"
    }
   ],
   "source": [
    "df['department'].unique()"
   ]
  },
  {
   "cell_type": "markdown",
   "id": "0d20b1c2",
   "metadata": {},
   "source": [
    "Última correção:"
   ]
  },
  {
   "cell_type": "code",
   "execution_count": 153,
   "id": "6dc556b1",
   "metadata": {},
   "outputs": [
    {
     "data": {
      "text/plain": [
       "array(['region_7', 'region_22', 'region_19', 'region_23', 'region_26',\n",
       "       'region_2', 'region_20', 'region_34', 'region_1', 'region_4',\n",
       "       'region_29', 'region_31', 'region_15', 'region_11', 'region_5',\n",
       "       'region_17', 'region_13', 'region_16', 'region_25', 'region_10',\n",
       "       'region_27', 'region_30', 'region_21', 'region_8', 'region_14',\n",
       "       'region_32', 'region_6', 'region_12', 'region_33', 'region_24',\n",
       "       'region_3', 'region_9', 'region_28', 'region_18',\n",
       "       'casa da lu na suecia'], dtype=object)"
      ]
     },
     "execution_count": 153,
     "metadata": {},
     "output_type": "execute_result"
    }
   ],
   "source": [
    "df['region'].unique()"
   ]
  },
  {
   "cell_type": "markdown",
   "id": "32f13674",
   "metadata": {},
   "source": [
    "Há uma região claramente errada. Primeiro, vou verificar se não há uma região \"faltando\" - por exemplo, se há regiões 4 e 6 mas não uma região 5; isso implicaria que a categoria faltante era para ser uma das regiões. Para isso, vamos organizar as regiões:"
   ]
  },
  {
   "cell_type": "code",
   "execution_count": 154,
   "id": "a039ace2",
   "metadata": {},
   "outputs": [
    {
     "data": {
      "text/plain": [
       "array(['casa da lu na suecia', 'region_1', 'region_10', 'region_11',\n",
       "       'region_12', 'region_13', 'region_14', 'region_15', 'region_16',\n",
       "       'region_17', 'region_18', 'region_19', 'region_2', 'region_20',\n",
       "       'region_21', 'region_22', 'region_23', 'region_24', 'region_25',\n",
       "       'region_26', 'region_27', 'region_28', 'region_29', 'region_3',\n",
       "       'region_30', 'region_31', 'region_32', 'region_33', 'region_34',\n",
       "       'region_4', 'region_5', 'region_6', 'region_7', 'region_8',\n",
       "       'region_9'], dtype=object)"
      ]
     },
     "execution_count": 154,
     "metadata": {},
     "output_type": "execute_result"
    }
   ],
   "source": [
    "np.sort(df['region'].unique())"
   ]
  },
  {
   "cell_type": "markdown",
   "id": "87e686a2",
   "metadata": {},
   "source": [
    "Infelizmente, não era o caso. Todavia, se verificarmos a quantidade de dados errados:"
   ]
  },
  {
   "cell_type": "code",
   "execution_count": 155,
   "id": "0610f74a",
   "metadata": {},
   "outputs": [
    {
     "name": "stdout",
     "output_type": "stream",
     "text": [
      "0.008 %\n"
     ]
    }
   ],
   "source": [
    "print(np.round(100*len(df[df['region']=='casa da lu na suecia'])/len(df['region']),3),'%')"
   ]
  },
  {
   "cell_type": "markdown",
   "id": "3714143f",
   "metadata": {},
   "source": [
    "É uma quantidade até menor que o caso anterior! Então, vamos apenas descartá-los."
   ]
  },
  {
   "cell_type": "code",
   "execution_count": 156,
   "id": "98ff5b75",
   "metadata": {},
   "outputs": [],
   "source": [
    "df1 = df[df['region'] == 'casa da lu na suecia']\n",
    "\n",
    "df.drop(df1.index,inplace=True)"
   ]
  },
  {
   "cell_type": "markdown",
   "id": "299fc083",
   "metadata": {},
   "source": [
    "Finalmente, vamos olhar o nosso dataset limpo:"
   ]
  },
  {
   "cell_type": "code",
   "execution_count": 157,
   "id": "b3e7e080",
   "metadata": {},
   "outputs": [
    {
     "data": {
      "text/html": [
       "<div>\n",
       "<style scoped>\n",
       "    .dataframe tbody tr th:only-of-type {\n",
       "        vertical-align: middle;\n",
       "    }\n",
       "\n",
       "    .dataframe tbody tr th {\n",
       "        vertical-align: top;\n",
       "    }\n",
       "\n",
       "    .dataframe thead th {\n",
       "        text-align: right;\n",
       "    }\n",
       "</style>\n",
       "<table border=\"1\" class=\"dataframe\">\n",
       "  <thead>\n",
       "    <tr style=\"text-align: right;\">\n",
       "      <th></th>\n",
       "      <th>department</th>\n",
       "      <th>region</th>\n",
       "      <th>education</th>\n",
       "      <th>gender</th>\n",
       "      <th>recruitment_channel</th>\n",
       "      <th>no_of_trainings</th>\n",
       "      <th>age</th>\n",
       "      <th>previous_year_rating</th>\n",
       "      <th>length_of_service</th>\n",
       "      <th>awards_won?</th>\n",
       "      <th>avg_training_score</th>\n",
       "      <th>is_promoted</th>\n",
       "    </tr>\n",
       "    <tr>\n",
       "      <th>employee_id</th>\n",
       "      <th></th>\n",
       "      <th></th>\n",
       "      <th></th>\n",
       "      <th></th>\n",
       "      <th></th>\n",
       "      <th></th>\n",
       "      <th></th>\n",
       "      <th></th>\n",
       "      <th></th>\n",
       "      <th></th>\n",
       "      <th></th>\n",
       "      <th></th>\n",
       "    </tr>\n",
       "  </thead>\n",
       "  <tbody>\n",
       "    <tr>\n",
       "      <th>65438</th>\n",
       "      <td>Sales &amp; Marketing</td>\n",
       "      <td>region_7</td>\n",
       "      <td>Master's &amp; above</td>\n",
       "      <td>Female</td>\n",
       "      <td>sourcing</td>\n",
       "      <td>1.0</td>\n",
       "      <td>35</td>\n",
       "      <td>5.0</td>\n",
       "      <td>8</td>\n",
       "      <td>0</td>\n",
       "      <td>49.0</td>\n",
       "      <td>0</td>\n",
       "    </tr>\n",
       "    <tr>\n",
       "      <th>65141</th>\n",
       "      <td>Operations</td>\n",
       "      <td>region_22</td>\n",
       "      <td>Bachelor's</td>\n",
       "      <td>Male</td>\n",
       "      <td>other</td>\n",
       "      <td>1.0</td>\n",
       "      <td>30</td>\n",
       "      <td>5.0</td>\n",
       "      <td>4</td>\n",
       "      <td>0</td>\n",
       "      <td>60.0</td>\n",
       "      <td>0</td>\n",
       "    </tr>\n",
       "    <tr>\n",
       "      <th>7513</th>\n",
       "      <td>Sales &amp; Marketing</td>\n",
       "      <td>region_19</td>\n",
       "      <td>Bachelor's</td>\n",
       "      <td>Male</td>\n",
       "      <td>sourcing</td>\n",
       "      <td>1.0</td>\n",
       "      <td>34</td>\n",
       "      <td>3.0</td>\n",
       "      <td>7</td>\n",
       "      <td>0</td>\n",
       "      <td>50.0</td>\n",
       "      <td>0</td>\n",
       "    </tr>\n",
       "    <tr>\n",
       "      <th>2542</th>\n",
       "      <td>Sales &amp; Marketing</td>\n",
       "      <td>region_23</td>\n",
       "      <td>Bachelor's</td>\n",
       "      <td>Male</td>\n",
       "      <td>other</td>\n",
       "      <td>2.0</td>\n",
       "      <td>39</td>\n",
       "      <td>1.0</td>\n",
       "      <td>10</td>\n",
       "      <td>0</td>\n",
       "      <td>50.0</td>\n",
       "      <td>0</td>\n",
       "    </tr>\n",
       "    <tr>\n",
       "      <th>48945</th>\n",
       "      <td>Technology</td>\n",
       "      <td>region_26</td>\n",
       "      <td>Bachelor's</td>\n",
       "      <td>Male</td>\n",
       "      <td>other</td>\n",
       "      <td>1.0</td>\n",
       "      <td>45</td>\n",
       "      <td>3.0</td>\n",
       "      <td>2</td>\n",
       "      <td>0</td>\n",
       "      <td>73.0</td>\n",
       "      <td>0</td>\n",
       "    </tr>\n",
       "  </tbody>\n",
       "</table>\n",
       "</div>"
      ],
      "text/plain": [
       "                    department     region         education  gender  \\\n",
       "employee_id                                                           \n",
       "65438        Sales & Marketing   region_7  Master's & above  Female   \n",
       "65141               Operations  region_22        Bachelor's    Male   \n",
       "7513         Sales & Marketing  region_19        Bachelor's    Male   \n",
       "2542         Sales & Marketing  region_23        Bachelor's    Male   \n",
       "48945               Technology  region_26        Bachelor's    Male   \n",
       "\n",
       "            recruitment_channel  no_of_trainings  age  previous_year_rating  \\\n",
       "employee_id                                                                   \n",
       "65438                  sourcing              1.0   35                   5.0   \n",
       "65141                     other              1.0   30                   5.0   \n",
       "7513                   sourcing              1.0   34                   3.0   \n",
       "2542                      other              2.0   39                   1.0   \n",
       "48945                     other              1.0   45                   3.0   \n",
       "\n",
       "             length_of_service  awards_won?  avg_training_score  is_promoted  \n",
       "employee_id                                                                   \n",
       "65438                        8            0                49.0            0  \n",
       "65141                        4            0                60.0            0  \n",
       "7513                         7            0                50.0            0  \n",
       "2542                        10            0                50.0            0  \n",
       "48945                        2            0                73.0            0  "
      ]
     },
     "execution_count": 157,
     "metadata": {},
     "output_type": "execute_result"
    }
   ],
   "source": [
    "df.head()"
   ]
  },
  {
   "cell_type": "code",
   "execution_count": 158,
   "id": "a8935de7",
   "metadata": {},
   "outputs": [
    {
     "data": {
      "text/html": [
       "<div>\n",
       "<style scoped>\n",
       "    .dataframe tbody tr th:only-of-type {\n",
       "        vertical-align: middle;\n",
       "    }\n",
       "\n",
       "    .dataframe tbody tr th {\n",
       "        vertical-align: top;\n",
       "    }\n",
       "\n",
       "    .dataframe thead th {\n",
       "        text-align: right;\n",
       "    }\n",
       "</style>\n",
       "<table border=\"1\" class=\"dataframe\">\n",
       "  <thead>\n",
       "    <tr style=\"text-align: right;\">\n",
       "      <th></th>\n",
       "      <th>no_of_trainings</th>\n",
       "      <th>age</th>\n",
       "      <th>previous_year_rating</th>\n",
       "      <th>length_of_service</th>\n",
       "      <th>awards_won?</th>\n",
       "      <th>avg_training_score</th>\n",
       "      <th>is_promoted</th>\n",
       "    </tr>\n",
       "  </thead>\n",
       "  <tbody>\n",
       "    <tr>\n",
       "      <th>count</th>\n",
       "      <td>78260.000000</td>\n",
       "      <td>78260.000000</td>\n",
       "      <td>78260.000000</td>\n",
       "      <td>78260.000000</td>\n",
       "      <td>78260.000000</td>\n",
       "      <td>78260.000000</td>\n",
       "      <td>78260.000000</td>\n",
       "    </tr>\n",
       "    <tr>\n",
       "      <th>mean</th>\n",
       "      <td>1.145707</td>\n",
       "      <td>34.840966</td>\n",
       "      <td>3.079709</td>\n",
       "      <td>5.849796</td>\n",
       "      <td>0.022642</td>\n",
       "      <td>63.518068</td>\n",
       "      <td>-0.240480</td>\n",
       "    </tr>\n",
       "    <tr>\n",
       "      <th>std</th>\n",
       "      <td>0.683360</td>\n",
       "      <td>7.693660</td>\n",
       "      <td>1.499157</td>\n",
       "      <td>4.248614</td>\n",
       "      <td>0.148762</td>\n",
       "      <td>13.351624</td>\n",
       "      <td>0.549335</td>\n",
       "    </tr>\n",
       "    <tr>\n",
       "      <th>min</th>\n",
       "      <td>0.000000</td>\n",
       "      <td>20.000000</td>\n",
       "      <td>0.000000</td>\n",
       "      <td>1.000000</td>\n",
       "      <td>0.000000</td>\n",
       "      <td>39.000000</td>\n",
       "      <td>-1.000000</td>\n",
       "    </tr>\n",
       "    <tr>\n",
       "      <th>25%</th>\n",
       "      <td>1.000000</td>\n",
       "      <td>29.000000</td>\n",
       "      <td>2.000000</td>\n",
       "      <td>3.000000</td>\n",
       "      <td>0.000000</td>\n",
       "      <td>51.000000</td>\n",
       "      <td>-1.000000</td>\n",
       "    </tr>\n",
       "    <tr>\n",
       "      <th>50%</th>\n",
       "      <td>1.000000</td>\n",
       "      <td>33.000000</td>\n",
       "      <td>3.000000</td>\n",
       "      <td>5.000000</td>\n",
       "      <td>0.000000</td>\n",
       "      <td>60.000000</td>\n",
       "      <td>0.000000</td>\n",
       "    </tr>\n",
       "    <tr>\n",
       "      <th>75%</th>\n",
       "      <td>1.000000</td>\n",
       "      <td>39.000000</td>\n",
       "      <td>4.000000</td>\n",
       "      <td>7.000000</td>\n",
       "      <td>0.000000</td>\n",
       "      <td>76.000000</td>\n",
       "      <td>0.000000</td>\n",
       "    </tr>\n",
       "    <tr>\n",
       "      <th>max</th>\n",
       "      <td>10.000000</td>\n",
       "      <td>60.000000</td>\n",
       "      <td>5.000000</td>\n",
       "      <td>37.000000</td>\n",
       "      <td>1.000000</td>\n",
       "      <td>99.000000</td>\n",
       "      <td>1.000000</td>\n",
       "    </tr>\n",
       "  </tbody>\n",
       "</table>\n",
       "</div>"
      ],
      "text/plain": [
       "       no_of_trainings           age  previous_year_rating  length_of_service  \\\n",
       "count     78260.000000  78260.000000          78260.000000       78260.000000   \n",
       "mean          1.145707     34.840966              3.079709           5.849796   \n",
       "std           0.683360      7.693660              1.499157           4.248614   \n",
       "min           0.000000     20.000000              0.000000           1.000000   \n",
       "25%           1.000000     29.000000              2.000000           3.000000   \n",
       "50%           1.000000     33.000000              3.000000           5.000000   \n",
       "75%           1.000000     39.000000              4.000000           7.000000   \n",
       "max          10.000000     60.000000              5.000000          37.000000   \n",
       "\n",
       "        awards_won?  avg_training_score   is_promoted  \n",
       "count  78260.000000        78260.000000  78260.000000  \n",
       "mean       0.022642           63.518068     -0.240480  \n",
       "std        0.148762           13.351624      0.549335  \n",
       "min        0.000000           39.000000     -1.000000  \n",
       "25%        0.000000           51.000000     -1.000000  \n",
       "50%        0.000000           60.000000      0.000000  \n",
       "75%        0.000000           76.000000      0.000000  \n",
       "max        1.000000           99.000000      1.000000  "
      ]
     },
     "execution_count": 158,
     "metadata": {},
     "output_type": "execute_result"
    }
   ],
   "source": [
    "df.describe()"
   ]
  },
  {
   "cell_type": "code",
   "execution_count": 159,
   "id": "1fc4844b",
   "metadata": {},
   "outputs": [
    {
     "data": {
      "text/html": [
       "<div>\n",
       "<style scoped>\n",
       "    .dataframe tbody tr th:only-of-type {\n",
       "        vertical-align: middle;\n",
       "    }\n",
       "\n",
       "    .dataframe tbody tr th {\n",
       "        vertical-align: top;\n",
       "    }\n",
       "\n",
       "    .dataframe thead th {\n",
       "        text-align: right;\n",
       "    }\n",
       "</style>\n",
       "<table border=\"1\" class=\"dataframe\">\n",
       "  <thead>\n",
       "    <tr style=\"text-align: right;\">\n",
       "      <th></th>\n",
       "      <th>department</th>\n",
       "      <th>region</th>\n",
       "      <th>education</th>\n",
       "      <th>gender</th>\n",
       "      <th>recruitment_channel</th>\n",
       "    </tr>\n",
       "  </thead>\n",
       "  <tbody>\n",
       "    <tr>\n",
       "      <th>count</th>\n",
       "      <td>78260</td>\n",
       "      <td>78260</td>\n",
       "      <td>78260</td>\n",
       "      <td>78260</td>\n",
       "      <td>78260</td>\n",
       "    </tr>\n",
       "    <tr>\n",
       "      <th>unique</th>\n",
       "      <td>9</td>\n",
       "      <td>34</td>\n",
       "      <td>4</td>\n",
       "      <td>2</td>\n",
       "      <td>3</td>\n",
       "    </tr>\n",
       "    <tr>\n",
       "      <th>top</th>\n",
       "      <td>Sales &amp; Marketing</td>\n",
       "      <td>region_2</td>\n",
       "      <td>Bachelor's</td>\n",
       "      <td>Male</td>\n",
       "      <td>other</td>\n",
       "    </tr>\n",
       "    <tr>\n",
       "      <th>freq</th>\n",
       "      <td>24155</td>\n",
       "      <td>17631</td>\n",
       "      <td>52215</td>\n",
       "      <td>55058</td>\n",
       "      <td>43502</td>\n",
       "    </tr>\n",
       "  </tbody>\n",
       "</table>\n",
       "</div>"
      ],
      "text/plain": [
       "               department    region   education gender recruitment_channel\n",
       "count               78260     78260       78260  78260               78260\n",
       "unique                  9        34           4      2                   3\n",
       "top     Sales & Marketing  region_2  Bachelor's   Male               other\n",
       "freq                24155     17631       52215  55058               43502"
      ]
     },
     "execution_count": 159,
     "metadata": {},
     "output_type": "execute_result"
    }
   ],
   "source": [
    "df.describe(include=['object'])"
   ]
  },
  {
   "cell_type": "code",
   "execution_count": 160,
   "id": "74a5f99c",
   "metadata": {},
   "outputs": [
    {
     "data": {
      "text/plain": [
       "department              0\n",
       "region                  0\n",
       "education               0\n",
       "gender                  0\n",
       "recruitment_channel     0\n",
       "no_of_trainings         0\n",
       "age                     0\n",
       "previous_year_rating    0\n",
       "length_of_service       0\n",
       "awards_won?             0\n",
       "avg_training_score      0\n",
       "is_promoted             0\n",
       "dtype: int64"
      ]
     },
     "execution_count": 160,
     "metadata": {},
     "output_type": "execute_result"
    }
   ],
   "source": [
    "df.isnull().sum()"
   ]
  },
  {
   "cell_type": "markdown",
   "id": "a91c3023",
   "metadata": {},
   "source": [
    "Tudo parece estar em ordem! Podemos separar os dois datasets de treino e de teste, utilizando o marcador -1 que havíamos colocado:"
   ]
  },
  {
   "cell_type": "code",
   "execution_count": 161,
   "id": "e62855bc",
   "metadata": {},
   "outputs": [],
   "source": [
    "dftest = df[df['is_promoted'] == -1].copy()\n",
    "dftest.drop('is_promoted',axis=1,inplace=True)"
   ]
  },
  {
   "cell_type": "code",
   "execution_count": 162,
   "id": "160c8199",
   "metadata": {},
   "outputs": [],
   "source": [
    "dftrain = df.drop(dftest.index).copy()"
   ]
  },
  {
   "cell_type": "code",
   "execution_count": 163,
   "id": "65ccdeb7",
   "metadata": {},
   "outputs": [
    {
     "data": {
      "text/html": [
       "<div>\n",
       "<style scoped>\n",
       "    .dataframe tbody tr th:only-of-type {\n",
       "        vertical-align: middle;\n",
       "    }\n",
       "\n",
       "    .dataframe tbody tr th {\n",
       "        vertical-align: top;\n",
       "    }\n",
       "\n",
       "    .dataframe thead th {\n",
       "        text-align: right;\n",
       "    }\n",
       "</style>\n",
       "<table border=\"1\" class=\"dataframe\">\n",
       "  <thead>\n",
       "    <tr style=\"text-align: right;\">\n",
       "      <th></th>\n",
       "      <th>department</th>\n",
       "      <th>region</th>\n",
       "      <th>education</th>\n",
       "      <th>gender</th>\n",
       "      <th>recruitment_channel</th>\n",
       "      <th>no_of_trainings</th>\n",
       "      <th>age</th>\n",
       "      <th>previous_year_rating</th>\n",
       "      <th>length_of_service</th>\n",
       "      <th>awards_won?</th>\n",
       "      <th>avg_training_score</th>\n",
       "      <th>is_promoted</th>\n",
       "    </tr>\n",
       "    <tr>\n",
       "      <th>employee_id</th>\n",
       "      <th></th>\n",
       "      <th></th>\n",
       "      <th></th>\n",
       "      <th></th>\n",
       "      <th></th>\n",
       "      <th></th>\n",
       "      <th></th>\n",
       "      <th></th>\n",
       "      <th></th>\n",
       "      <th></th>\n",
       "      <th></th>\n",
       "      <th></th>\n",
       "    </tr>\n",
       "  </thead>\n",
       "  <tbody>\n",
       "    <tr>\n",
       "      <th>65438</th>\n",
       "      <td>Sales &amp; Marketing</td>\n",
       "      <td>region_7</td>\n",
       "      <td>Master's &amp; above</td>\n",
       "      <td>Female</td>\n",
       "      <td>sourcing</td>\n",
       "      <td>1.0</td>\n",
       "      <td>35</td>\n",
       "      <td>5.0</td>\n",
       "      <td>8</td>\n",
       "      <td>0</td>\n",
       "      <td>49.0</td>\n",
       "      <td>0</td>\n",
       "    </tr>\n",
       "    <tr>\n",
       "      <th>65141</th>\n",
       "      <td>Operations</td>\n",
       "      <td>region_22</td>\n",
       "      <td>Bachelor's</td>\n",
       "      <td>Male</td>\n",
       "      <td>other</td>\n",
       "      <td>1.0</td>\n",
       "      <td>30</td>\n",
       "      <td>5.0</td>\n",
       "      <td>4</td>\n",
       "      <td>0</td>\n",
       "      <td>60.0</td>\n",
       "      <td>0</td>\n",
       "    </tr>\n",
       "    <tr>\n",
       "      <th>7513</th>\n",
       "      <td>Sales &amp; Marketing</td>\n",
       "      <td>region_19</td>\n",
       "      <td>Bachelor's</td>\n",
       "      <td>Male</td>\n",
       "      <td>sourcing</td>\n",
       "      <td>1.0</td>\n",
       "      <td>34</td>\n",
       "      <td>3.0</td>\n",
       "      <td>7</td>\n",
       "      <td>0</td>\n",
       "      <td>50.0</td>\n",
       "      <td>0</td>\n",
       "    </tr>\n",
       "    <tr>\n",
       "      <th>2542</th>\n",
       "      <td>Sales &amp; Marketing</td>\n",
       "      <td>region_23</td>\n",
       "      <td>Bachelor's</td>\n",
       "      <td>Male</td>\n",
       "      <td>other</td>\n",
       "      <td>2.0</td>\n",
       "      <td>39</td>\n",
       "      <td>1.0</td>\n",
       "      <td>10</td>\n",
       "      <td>0</td>\n",
       "      <td>50.0</td>\n",
       "      <td>0</td>\n",
       "    </tr>\n",
       "    <tr>\n",
       "      <th>48945</th>\n",
       "      <td>Technology</td>\n",
       "      <td>region_26</td>\n",
       "      <td>Bachelor's</td>\n",
       "      <td>Male</td>\n",
       "      <td>other</td>\n",
       "      <td>1.0</td>\n",
       "      <td>45</td>\n",
       "      <td>3.0</td>\n",
       "      <td>2</td>\n",
       "      <td>0</td>\n",
       "      <td>73.0</td>\n",
       "      <td>0</td>\n",
       "    </tr>\n",
       "  </tbody>\n",
       "</table>\n",
       "</div>"
      ],
      "text/plain": [
       "                    department     region         education  gender  \\\n",
       "employee_id                                                           \n",
       "65438        Sales & Marketing   region_7  Master's & above  Female   \n",
       "65141               Operations  region_22        Bachelor's    Male   \n",
       "7513         Sales & Marketing  region_19        Bachelor's    Male   \n",
       "2542         Sales & Marketing  region_23        Bachelor's    Male   \n",
       "48945               Technology  region_26        Bachelor's    Male   \n",
       "\n",
       "            recruitment_channel  no_of_trainings  age  previous_year_rating  \\\n",
       "employee_id                                                                   \n",
       "65438                  sourcing              1.0   35                   5.0   \n",
       "65141                     other              1.0   30                   5.0   \n",
       "7513                   sourcing              1.0   34                   3.0   \n",
       "2542                      other              2.0   39                   1.0   \n",
       "48945                     other              1.0   45                   3.0   \n",
       "\n",
       "             length_of_service  awards_won?  avg_training_score  is_promoted  \n",
       "employee_id                                                                   \n",
       "65438                        8            0                49.0            0  \n",
       "65141                        4            0                60.0            0  \n",
       "7513                         7            0                50.0            0  \n",
       "2542                        10            0                50.0            0  \n",
       "48945                        2            0                73.0            0  "
      ]
     },
     "execution_count": 163,
     "metadata": {},
     "output_type": "execute_result"
    }
   ],
   "source": [
    "dftrain.head()"
   ]
  },
  {
   "cell_type": "code",
   "execution_count": 164,
   "id": "10585339",
   "metadata": {},
   "outputs": [
    {
     "data": {
      "text/html": [
       "<div>\n",
       "<style scoped>\n",
       "    .dataframe tbody tr th:only-of-type {\n",
       "        vertical-align: middle;\n",
       "    }\n",
       "\n",
       "    .dataframe tbody tr th {\n",
       "        vertical-align: top;\n",
       "    }\n",
       "\n",
       "    .dataframe thead th {\n",
       "        text-align: right;\n",
       "    }\n",
       "</style>\n",
       "<table border=\"1\" class=\"dataframe\">\n",
       "  <thead>\n",
       "    <tr style=\"text-align: right;\">\n",
       "      <th></th>\n",
       "      <th>no_of_trainings</th>\n",
       "      <th>age</th>\n",
       "      <th>previous_year_rating</th>\n",
       "      <th>length_of_service</th>\n",
       "      <th>awards_won?</th>\n",
       "      <th>avg_training_score</th>\n",
       "      <th>is_promoted</th>\n",
       "    </tr>\n",
       "  </thead>\n",
       "  <tbody>\n",
       "    <tr>\n",
       "      <th>count</th>\n",
       "      <td>54779.000000</td>\n",
       "      <td>54779.000000</td>\n",
       "      <td>54779.000000</td>\n",
       "      <td>54779.000000</td>\n",
       "      <td>54779.000000</td>\n",
       "      <td>54779.000000</td>\n",
       "      <td>54779.000000</td>\n",
       "    </tr>\n",
       "    <tr>\n",
       "      <th>mean</th>\n",
       "      <td>1.145457</td>\n",
       "      <td>34.865952</td>\n",
       "      <td>3.078935</td>\n",
       "      <td>5.866500</td>\n",
       "      <td>0.022709</td>\n",
       "      <td>63.626536</td>\n",
       "      <td>0.085087</td>\n",
       "    </tr>\n",
       "    <tr>\n",
       "      <th>std</th>\n",
       "      <td>0.685290</td>\n",
       "      <td>7.699603</td>\n",
       "      <td>1.496419</td>\n",
       "      <td>4.265647</td>\n",
       "      <td>0.148977</td>\n",
       "      <td>13.323619</td>\n",
       "      <td>0.279014</td>\n",
       "    </tr>\n",
       "    <tr>\n",
       "      <th>min</th>\n",
       "      <td>0.000000</td>\n",
       "      <td>20.000000</td>\n",
       "      <td>0.000000</td>\n",
       "      <td>1.000000</td>\n",
       "      <td>0.000000</td>\n",
       "      <td>39.000000</td>\n",
       "      <td>0.000000</td>\n",
       "    </tr>\n",
       "    <tr>\n",
       "      <th>25%</th>\n",
       "      <td>1.000000</td>\n",
       "      <td>29.000000</td>\n",
       "      <td>2.000000</td>\n",
       "      <td>3.000000</td>\n",
       "      <td>0.000000</td>\n",
       "      <td>52.000000</td>\n",
       "      <td>0.000000</td>\n",
       "    </tr>\n",
       "    <tr>\n",
       "      <th>50%</th>\n",
       "      <td>1.000000</td>\n",
       "      <td>33.000000</td>\n",
       "      <td>3.000000</td>\n",
       "      <td>5.000000</td>\n",
       "      <td>0.000000</td>\n",
       "      <td>61.000000</td>\n",
       "      <td>0.000000</td>\n",
       "    </tr>\n",
       "    <tr>\n",
       "      <th>75%</th>\n",
       "      <td>1.000000</td>\n",
       "      <td>39.000000</td>\n",
       "      <td>4.000000</td>\n",
       "      <td>7.000000</td>\n",
       "      <td>0.000000</td>\n",
       "      <td>75.000000</td>\n",
       "      <td>0.000000</td>\n",
       "    </tr>\n",
       "    <tr>\n",
       "      <th>max</th>\n",
       "      <td>10.000000</td>\n",
       "      <td>60.000000</td>\n",
       "      <td>5.000000</td>\n",
       "      <td>37.000000</td>\n",
       "      <td>1.000000</td>\n",
       "      <td>99.000000</td>\n",
       "      <td>1.000000</td>\n",
       "    </tr>\n",
       "  </tbody>\n",
       "</table>\n",
       "</div>"
      ],
      "text/plain": [
       "       no_of_trainings           age  previous_year_rating  length_of_service  \\\n",
       "count     54779.000000  54779.000000          54779.000000       54779.000000   \n",
       "mean          1.145457     34.865952              3.078935           5.866500   \n",
       "std           0.685290      7.699603              1.496419           4.265647   \n",
       "min           0.000000     20.000000              0.000000           1.000000   \n",
       "25%           1.000000     29.000000              2.000000           3.000000   \n",
       "50%           1.000000     33.000000              3.000000           5.000000   \n",
       "75%           1.000000     39.000000              4.000000           7.000000   \n",
       "max          10.000000     60.000000              5.000000          37.000000   \n",
       "\n",
       "        awards_won?  avg_training_score   is_promoted  \n",
       "count  54779.000000        54779.000000  54779.000000  \n",
       "mean       0.022709           63.626536      0.085087  \n",
       "std        0.148977           13.323619      0.279014  \n",
       "min        0.000000           39.000000      0.000000  \n",
       "25%        0.000000           52.000000      0.000000  \n",
       "50%        0.000000           61.000000      0.000000  \n",
       "75%        0.000000           75.000000      0.000000  \n",
       "max        1.000000           99.000000      1.000000  "
      ]
     },
     "execution_count": 164,
     "metadata": {},
     "output_type": "execute_result"
    }
   ],
   "source": [
    "dftrain.describe()"
   ]
  },
  {
   "cell_type": "code",
   "execution_count": 165,
   "id": "4e334985",
   "metadata": {},
   "outputs": [
    {
     "data": {
      "text/html": [
       "<div>\n",
       "<style scoped>\n",
       "    .dataframe tbody tr th:only-of-type {\n",
       "        vertical-align: middle;\n",
       "    }\n",
       "\n",
       "    .dataframe tbody tr th {\n",
       "        vertical-align: top;\n",
       "    }\n",
       "\n",
       "    .dataframe thead th {\n",
       "        text-align: right;\n",
       "    }\n",
       "</style>\n",
       "<table border=\"1\" class=\"dataframe\">\n",
       "  <thead>\n",
       "    <tr style=\"text-align: right;\">\n",
       "      <th></th>\n",
       "      <th>department</th>\n",
       "      <th>region</th>\n",
       "      <th>education</th>\n",
       "      <th>gender</th>\n",
       "      <th>recruitment_channel</th>\n",
       "      <th>no_of_trainings</th>\n",
       "      <th>age</th>\n",
       "      <th>previous_year_rating</th>\n",
       "      <th>length_of_service</th>\n",
       "      <th>awards_won?</th>\n",
       "      <th>avg_training_score</th>\n",
       "    </tr>\n",
       "    <tr>\n",
       "      <th>employee_id</th>\n",
       "      <th></th>\n",
       "      <th></th>\n",
       "      <th></th>\n",
       "      <th></th>\n",
       "      <th></th>\n",
       "      <th></th>\n",
       "      <th></th>\n",
       "      <th></th>\n",
       "      <th></th>\n",
       "      <th></th>\n",
       "      <th></th>\n",
       "    </tr>\n",
       "  </thead>\n",
       "  <tbody>\n",
       "    <tr>\n",
       "      <th>8724</th>\n",
       "      <td>Technology</td>\n",
       "      <td>region_26</td>\n",
       "      <td>Bachelor's</td>\n",
       "      <td>Male</td>\n",
       "      <td>sourcing</td>\n",
       "      <td>1.0</td>\n",
       "      <td>24</td>\n",
       "      <td>0.0</td>\n",
       "      <td>1</td>\n",
       "      <td>0</td>\n",
       "      <td>77.0</td>\n",
       "    </tr>\n",
       "    <tr>\n",
       "      <th>74430</th>\n",
       "      <td>HR</td>\n",
       "      <td>region_4</td>\n",
       "      <td>Bachelor's</td>\n",
       "      <td>Female</td>\n",
       "      <td>other</td>\n",
       "      <td>1.0</td>\n",
       "      <td>31</td>\n",
       "      <td>3.0</td>\n",
       "      <td>5</td>\n",
       "      <td>0</td>\n",
       "      <td>51.0</td>\n",
       "    </tr>\n",
       "    <tr>\n",
       "      <th>72255</th>\n",
       "      <td>Sales &amp; Marketing</td>\n",
       "      <td>region_13</td>\n",
       "      <td>Bachelor's</td>\n",
       "      <td>Male</td>\n",
       "      <td>other</td>\n",
       "      <td>1.0</td>\n",
       "      <td>31</td>\n",
       "      <td>1.0</td>\n",
       "      <td>4</td>\n",
       "      <td>0</td>\n",
       "      <td>47.0</td>\n",
       "    </tr>\n",
       "    <tr>\n",
       "      <th>38562</th>\n",
       "      <td>Procurement</td>\n",
       "      <td>region_2</td>\n",
       "      <td>Bachelor's</td>\n",
       "      <td>Female</td>\n",
       "      <td>other</td>\n",
       "      <td>0.0</td>\n",
       "      <td>31</td>\n",
       "      <td>2.0</td>\n",
       "      <td>9</td>\n",
       "      <td>0</td>\n",
       "      <td>65.0</td>\n",
       "    </tr>\n",
       "    <tr>\n",
       "      <th>64486</th>\n",
       "      <td>Finance</td>\n",
       "      <td>region_29</td>\n",
       "      <td>Bachelor's</td>\n",
       "      <td>Male</td>\n",
       "      <td>sourcing</td>\n",
       "      <td>1.0</td>\n",
       "      <td>30</td>\n",
       "      <td>4.0</td>\n",
       "      <td>7</td>\n",
       "      <td>0</td>\n",
       "      <td>61.0</td>\n",
       "    </tr>\n",
       "  </tbody>\n",
       "</table>\n",
       "</div>"
      ],
      "text/plain": [
       "                    department     region   education  gender  \\\n",
       "employee_id                                                     \n",
       "8724                Technology  region_26  Bachelor's    Male   \n",
       "74430                       HR   region_4  Bachelor's  Female   \n",
       "72255        Sales & Marketing  region_13  Bachelor's    Male   \n",
       "38562              Procurement   region_2  Bachelor's  Female   \n",
       "64486                  Finance  region_29  Bachelor's    Male   \n",
       "\n",
       "            recruitment_channel  no_of_trainings  age  previous_year_rating  \\\n",
       "employee_id                                                                   \n",
       "8724                   sourcing              1.0   24                   0.0   \n",
       "74430                     other              1.0   31                   3.0   \n",
       "72255                     other              1.0   31                   1.0   \n",
       "38562                     other              0.0   31                   2.0   \n",
       "64486                  sourcing              1.0   30                   4.0   \n",
       "\n",
       "             length_of_service  awards_won?  avg_training_score  \n",
       "employee_id                                                      \n",
       "8724                         1            0                77.0  \n",
       "74430                        5            0                51.0  \n",
       "72255                        4            0                47.0  \n",
       "38562                        9            0                65.0  \n",
       "64486                        7            0                61.0  "
      ]
     },
     "execution_count": 165,
     "metadata": {},
     "output_type": "execute_result"
    }
   ],
   "source": [
    "dftest.head()"
   ]
  },
  {
   "cell_type": "code",
   "execution_count": 166,
   "id": "f50b0a66",
   "metadata": {},
   "outputs": [
    {
     "data": {
      "text/html": [
       "<div>\n",
       "<style scoped>\n",
       "    .dataframe tbody tr th:only-of-type {\n",
       "        vertical-align: middle;\n",
       "    }\n",
       "\n",
       "    .dataframe tbody tr th {\n",
       "        vertical-align: top;\n",
       "    }\n",
       "\n",
       "    .dataframe thead th {\n",
       "        text-align: right;\n",
       "    }\n",
       "</style>\n",
       "<table border=\"1\" class=\"dataframe\">\n",
       "  <thead>\n",
       "    <tr style=\"text-align: right;\">\n",
       "      <th></th>\n",
       "      <th>no_of_trainings</th>\n",
       "      <th>age</th>\n",
       "      <th>previous_year_rating</th>\n",
       "      <th>length_of_service</th>\n",
       "      <th>awards_won?</th>\n",
       "      <th>avg_training_score</th>\n",
       "    </tr>\n",
       "  </thead>\n",
       "  <tbody>\n",
       "    <tr>\n",
       "      <th>count</th>\n",
       "      <td>23481.000000</td>\n",
       "      <td>23481.000000</td>\n",
       "      <td>23481.000000</td>\n",
       "      <td>23481.000000</td>\n",
       "      <td>23481.000000</td>\n",
       "      <td>23481.000000</td>\n",
       "    </tr>\n",
       "    <tr>\n",
       "      <th>mean</th>\n",
       "      <td>1.146288</td>\n",
       "      <td>34.782675</td>\n",
       "      <td>3.081513</td>\n",
       "      <td>5.810826</td>\n",
       "      <td>0.022486</td>\n",
       "      <td>63.265023</td>\n",
       "    </tr>\n",
       "    <tr>\n",
       "      <th>std</th>\n",
       "      <td>0.678851</td>\n",
       "      <td>7.679626</td>\n",
       "      <td>1.505555</td>\n",
       "      <td>4.208441</td>\n",
       "      <td>0.148262</td>\n",
       "      <td>13.413604</td>\n",
       "    </tr>\n",
       "    <tr>\n",
       "      <th>min</th>\n",
       "      <td>0.000000</td>\n",
       "      <td>20.000000</td>\n",
       "      <td>0.000000</td>\n",
       "      <td>1.000000</td>\n",
       "      <td>0.000000</td>\n",
       "      <td>39.000000</td>\n",
       "    </tr>\n",
       "    <tr>\n",
       "      <th>25%</th>\n",
       "      <td>1.000000</td>\n",
       "      <td>29.000000</td>\n",
       "      <td>2.000000</td>\n",
       "      <td>3.000000</td>\n",
       "      <td>0.000000</td>\n",
       "      <td>51.000000</td>\n",
       "    </tr>\n",
       "    <tr>\n",
       "      <th>50%</th>\n",
       "      <td>1.000000</td>\n",
       "      <td>33.000000</td>\n",
       "      <td>3.000000</td>\n",
       "      <td>5.000000</td>\n",
       "      <td>0.000000</td>\n",
       "      <td>60.000000</td>\n",
       "    </tr>\n",
       "    <tr>\n",
       "      <th>75%</th>\n",
       "      <td>1.000000</td>\n",
       "      <td>39.000000</td>\n",
       "      <td>4.000000</td>\n",
       "      <td>7.000000</td>\n",
       "      <td>0.000000</td>\n",
       "      <td>76.000000</td>\n",
       "    </tr>\n",
       "    <tr>\n",
       "      <th>max</th>\n",
       "      <td>9.000000</td>\n",
       "      <td>60.000000</td>\n",
       "      <td>5.000000</td>\n",
       "      <td>34.000000</td>\n",
       "      <td>1.000000</td>\n",
       "      <td>99.000000</td>\n",
       "    </tr>\n",
       "  </tbody>\n",
       "</table>\n",
       "</div>"
      ],
      "text/plain": [
       "       no_of_trainings           age  previous_year_rating  length_of_service  \\\n",
       "count     23481.000000  23481.000000          23481.000000       23481.000000   \n",
       "mean          1.146288     34.782675              3.081513           5.810826   \n",
       "std           0.678851      7.679626              1.505555           4.208441   \n",
       "min           0.000000     20.000000              0.000000           1.000000   \n",
       "25%           1.000000     29.000000              2.000000           3.000000   \n",
       "50%           1.000000     33.000000              3.000000           5.000000   \n",
       "75%           1.000000     39.000000              4.000000           7.000000   \n",
       "max           9.000000     60.000000              5.000000          34.000000   \n",
       "\n",
       "        awards_won?  avg_training_score  \n",
       "count  23481.000000        23481.000000  \n",
       "mean       0.022486           63.265023  \n",
       "std        0.148262           13.413604  \n",
       "min        0.000000           39.000000  \n",
       "25%        0.000000           51.000000  \n",
       "50%        0.000000           60.000000  \n",
       "75%        0.000000           76.000000  \n",
       "max        1.000000           99.000000  "
      ]
     },
     "execution_count": 166,
     "metadata": {},
     "output_type": "execute_result"
    }
   ],
   "source": [
    "dftest.describe()"
   ]
  },
  {
   "cell_type": "code",
   "execution_count": 167,
   "id": "47677283",
   "metadata": {},
   "outputs": [
    {
     "data": {
      "text/plain": [
       "department              0\n",
       "region                  0\n",
       "education               0\n",
       "gender                  0\n",
       "recruitment_channel     0\n",
       "no_of_trainings         0\n",
       "age                     0\n",
       "previous_year_rating    0\n",
       "length_of_service       0\n",
       "awards_won?             0\n",
       "avg_training_score      0\n",
       "dtype: int64"
      ]
     },
     "execution_count": 167,
     "metadata": {},
     "output_type": "execute_result"
    }
   ],
   "source": [
    "dftest.isnull().sum()"
   ]
  },
  {
   "cell_type": "code",
   "execution_count": 168,
   "id": "0f743363",
   "metadata": {},
   "outputs": [
    {
     "data": {
      "text/plain": [
       "department              0\n",
       "region                  0\n",
       "education               0\n",
       "gender                  0\n",
       "recruitment_channel     0\n",
       "no_of_trainings         0\n",
       "age                     0\n",
       "previous_year_rating    0\n",
       "length_of_service       0\n",
       "awards_won?             0\n",
       "avg_training_score      0\n",
       "is_promoted             0\n",
       "dtype: int64"
      ]
     },
     "execution_count": 168,
     "metadata": {},
     "output_type": "execute_result"
    }
   ],
   "source": [
    "dftrain.isnull().sum()"
   ]
  },
  {
   "cell_type": "markdown",
   "id": "db71ea7d",
   "metadata": {},
   "source": [
    "Pronto!"
   ]
  },
  {
   "cell_type": "markdown",
   "id": "28fb8e81",
   "metadata": {},
   "source": [
    "### Predição"
   ]
  },
  {
   "cell_type": "markdown",
   "id": "52d963ec",
   "metadata": {},
   "source": [
    "Como temos muitas features de tipos diferentes, vamos usar um _Random Forest_ para realizar as predições."
   ]
  },
  {
   "cell_type": "markdown",
   "id": "51dfb95b",
   "metadata": {},
   "source": [
    "Primeiro, vamos criar os _dummies_, ou seja, converter as features categóricas em diferentes colunas com valor 1 e 0:"
   ]
  },
  {
   "cell_type": "code",
   "execution_count": 169,
   "id": "171177c0",
   "metadata": {},
   "outputs": [],
   "source": [
    "encoding_train = pd.get_dummies(dftrain)"
   ]
  },
  {
   "cell_type": "code",
   "execution_count": 170,
   "id": "899ba69e",
   "metadata": {},
   "outputs": [
    {
     "data": {
      "text/plain": [
       "Index(['no_of_trainings', 'age', 'previous_year_rating', 'length_of_service',\n",
       "       'awards_won?', 'avg_training_score', 'is_promoted',\n",
       "       'department_Analytics', 'department_Finance', 'department_HR',\n",
       "       'department_Legal', 'department_Operations', 'department_Procurement',\n",
       "       'department_R&D', 'department_Sales & Marketing',\n",
       "       'department_Technology', 'region_region_1', 'region_region_10',\n",
       "       'region_region_11', 'region_region_12', 'region_region_13',\n",
       "       'region_region_14', 'region_region_15', 'region_region_16',\n",
       "       'region_region_17', 'region_region_18', 'region_region_19',\n",
       "       'region_region_2', 'region_region_20', 'region_region_21',\n",
       "       'region_region_22', 'region_region_23', 'region_region_24',\n",
       "       'region_region_25', 'region_region_26', 'region_region_27',\n",
       "       'region_region_28', 'region_region_29', 'region_region_3',\n",
       "       'region_region_30', 'region_region_31', 'region_region_32',\n",
       "       'region_region_33', 'region_region_34', 'region_region_4',\n",
       "       'region_region_5', 'region_region_6', 'region_region_7',\n",
       "       'region_region_8', 'region_region_9', 'education_Bachelor's',\n",
       "       'education_Below Secondary', 'education_Master's & above',\n",
       "       'education_Secondary', 'gender_Female', 'gender_Male',\n",
       "       'recruitment_channel_other', 'recruitment_channel_referred',\n",
       "       'recruitment_channel_sourcing'],\n",
       "      dtype='object')"
      ]
     },
     "execution_count": 170,
     "metadata": {},
     "output_type": "execute_result"
    }
   ],
   "source": [
    "encoding_train.columns"
   ]
  },
  {
   "cell_type": "markdown",
   "id": "f6e7f5b4",
   "metadata": {},
   "source": [
    "Funcionou! Agora temos uma coluna para cada categoria!"
   ]
  },
  {
   "cell_type": "markdown",
   "id": "edcbab13",
   "metadata": {},
   "source": [
    "Agora, vou fazer alguns dados de teste usando ``train_test_split``:"
   ]
  },
  {
   "cell_type": "code",
   "execution_count": 171,
   "id": "02fb65b0",
   "metadata": {},
   "outputs": [],
   "source": [
    "X_train, X_test, y_train, y_test = train_test_split(encoding_train.drop('is_promoted',axis = 1),encoding_train['is_promoted'].copy(), test_size = 0.25, random_state = 42)"
   ]
  },
  {
   "cell_type": "markdown",
   "id": "00e3e16f",
   "metadata": {},
   "source": [
    "Finalmente, podemos criar nosso modelo com o ``scikit_learn``:"
   ]
  },
  {
   "cell_type": "code",
   "execution_count": 172,
   "id": "e08c960a",
   "metadata": {},
   "outputs": [
    {
     "data": {
      "text/html": [
       "<style>#sk-container-id-3 {color: black;background-color: white;}#sk-container-id-3 pre{padding: 0;}#sk-container-id-3 div.sk-toggleable {background-color: white;}#sk-container-id-3 label.sk-toggleable__label {cursor: pointer;display: block;width: 100%;margin-bottom: 0;padding: 0.3em;box-sizing: border-box;text-align: center;}#sk-container-id-3 label.sk-toggleable__label-arrow:before {content: \"▸\";float: left;margin-right: 0.25em;color: #696969;}#sk-container-id-3 label.sk-toggleable__label-arrow:hover:before {color: black;}#sk-container-id-3 div.sk-estimator:hover label.sk-toggleable__label-arrow:before {color: black;}#sk-container-id-3 div.sk-toggleable__content {max-height: 0;max-width: 0;overflow: hidden;text-align: left;background-color: #f0f8ff;}#sk-container-id-3 div.sk-toggleable__content pre {margin: 0.2em;color: black;border-radius: 0.25em;background-color: #f0f8ff;}#sk-container-id-3 input.sk-toggleable__control:checked~div.sk-toggleable__content {max-height: 200px;max-width: 100%;overflow: auto;}#sk-container-id-3 input.sk-toggleable__control:checked~label.sk-toggleable__label-arrow:before {content: \"▾\";}#sk-container-id-3 div.sk-estimator input.sk-toggleable__control:checked~label.sk-toggleable__label {background-color: #d4ebff;}#sk-container-id-3 div.sk-label input.sk-toggleable__control:checked~label.sk-toggleable__label {background-color: #d4ebff;}#sk-container-id-3 input.sk-hidden--visually {border: 0;clip: rect(1px 1px 1px 1px);clip: rect(1px, 1px, 1px, 1px);height: 1px;margin: -1px;overflow: hidden;padding: 0;position: absolute;width: 1px;}#sk-container-id-3 div.sk-estimator {font-family: monospace;background-color: #f0f8ff;border: 1px dotted black;border-radius: 0.25em;box-sizing: border-box;margin-bottom: 0.5em;}#sk-container-id-3 div.sk-estimator:hover {background-color: #d4ebff;}#sk-container-id-3 div.sk-parallel-item::after {content: \"\";width: 100%;border-bottom: 1px solid gray;flex-grow: 1;}#sk-container-id-3 div.sk-label:hover label.sk-toggleable__label {background-color: #d4ebff;}#sk-container-id-3 div.sk-serial::before {content: \"\";position: absolute;border-left: 1px solid gray;box-sizing: border-box;top: 0;bottom: 0;left: 50%;z-index: 0;}#sk-container-id-3 div.sk-serial {display: flex;flex-direction: column;align-items: center;background-color: white;padding-right: 0.2em;padding-left: 0.2em;position: relative;}#sk-container-id-3 div.sk-item {position: relative;z-index: 1;}#sk-container-id-3 div.sk-parallel {display: flex;align-items: stretch;justify-content: center;background-color: white;position: relative;}#sk-container-id-3 div.sk-item::before, #sk-container-id-3 div.sk-parallel-item::before {content: \"\";position: absolute;border-left: 1px solid gray;box-sizing: border-box;top: 0;bottom: 0;left: 50%;z-index: -1;}#sk-container-id-3 div.sk-parallel-item {display: flex;flex-direction: column;z-index: 1;position: relative;background-color: white;}#sk-container-id-3 div.sk-parallel-item:first-child::after {align-self: flex-end;width: 50%;}#sk-container-id-3 div.sk-parallel-item:last-child::after {align-self: flex-start;width: 50%;}#sk-container-id-3 div.sk-parallel-item:only-child::after {width: 0;}#sk-container-id-3 div.sk-dashed-wrapped {border: 1px dashed gray;margin: 0 0.4em 0.5em 0.4em;box-sizing: border-box;padding-bottom: 0.4em;background-color: white;}#sk-container-id-3 div.sk-label label {font-family: monospace;font-weight: bold;display: inline-block;line-height: 1.2em;}#sk-container-id-3 div.sk-label-container {text-align: center;}#sk-container-id-3 div.sk-container {/* jupyter's `normalize.less` sets `[hidden] { display: none; }` but bootstrap.min.css set `[hidden] { display: none !important; }` so we also need the `!important` here to be able to override the default hidden behavior on the sphinx rendered scikit-learn.org. See: https://github.com/scikit-learn/scikit-learn/issues/21755 */display: inline-block !important;position: relative;}#sk-container-id-3 div.sk-text-repr-fallback {display: none;}</style><div id=\"sk-container-id-3\" class=\"sk-top-container\"><div class=\"sk-text-repr-fallback\"><pre>RandomForestClassifier(criterion=&#x27;entropy&#x27;, max_depth=25, min_samples_split=50,\n",
       "                       n_estimators=200, oob_score=True, random_state=42)</pre><b>In a Jupyter environment, please rerun this cell to show the HTML representation or trust the notebook. <br />On GitHub, the HTML representation is unable to render, please try loading this page with nbviewer.org.</b></div><div class=\"sk-container\" hidden><div class=\"sk-item\"><div class=\"sk-estimator sk-toggleable\"><input class=\"sk-toggleable__control sk-hidden--visually\" id=\"sk-estimator-id-3\" type=\"checkbox\" checked><label for=\"sk-estimator-id-3\" class=\"sk-toggleable__label sk-toggleable__label-arrow\">RandomForestClassifier</label><div class=\"sk-toggleable__content\"><pre>RandomForestClassifier(criterion=&#x27;entropy&#x27;, max_depth=25, min_samples_split=50,\n",
       "                       n_estimators=200, oob_score=True, random_state=42)</pre></div></div></div></div></div>"
      ],
      "text/plain": [
       "RandomForestClassifier(criterion='entropy', max_depth=25, min_samples_split=50,\n",
       "                       n_estimators=200, oob_score=True, random_state=42)"
      ]
     },
     "execution_count": 172,
     "metadata": {},
     "output_type": "execute_result"
    }
   ],
   "source": [
    "rf = RandomForestClassifier(\n",
    "    max_depth=25,\n",
    "    n_estimators=200,\n",
    "    min_samples_split=50,\n",
    "    criterion='entropy',\n",
    "    oob_score=True,\n",
    "    random_state=42\n",
    ")\n",
    "\n",
    "rf.fit(X_train, y_train)"
   ]
  },
  {
   "cell_type": "markdown",
   "id": "97502b75",
   "metadata": {},
   "source": [
    "Feito o fit com os dados de treino, podemos utilizar os dados de teste para, obviamente, testar o modelo:"
   ]
  },
  {
   "cell_type": "code",
   "execution_count": 173,
   "id": "b51d62b6",
   "metadata": {},
   "outputs": [
    {
     "name": "stdout",
     "output_type": "stream",
     "text": [
      "Out-of-bag score estimate: 0.924\n",
      "Mean accuracy score: 0.926\n"
     ]
    }
   ],
   "source": [
    "predicted = rf.predict(X_test)\n",
    "accuracy = accuracy_score(y_test, predicted)\n",
    "print(f'Out-of-bag score estimate: {rf.oob_score_:.3}')\n",
    "print(f'Mean accuracy score: {accuracy:.3}')"
   ]
  },
  {
   "cell_type": "markdown",
   "id": "8909ca34",
   "metadata": {},
   "source": [
    "E fazemos uma matriz de confusão:"
   ]
  },
  {
   "cell_type": "code",
   "execution_count": 174,
   "id": "e63c6e6d",
   "metadata": {},
   "outputs": [
    {
     "data": {
      "text/plain": [
       "[Text(0, 0.5, 'Promoted'), Text(0, 1.5, 'Not Promoted')]"
      ]
     },
     "execution_count": 174,
     "metadata": {},
     "output_type": "execute_result"
    },
    {
     "data": {
      "image/png": "[encoded data removed]",
      "text/plain": [
       "<Figure size 576x504 with 2 Axes>"
      ]
     },
     "metadata": {},
     "output_type": "display_data"
    }
   ],
   "source": [
    "cm = confusion_matrix(y_test, predicted)\n",
    "fig, (ax) = plt.subplots(1, 1, figsize=(8,7))\n",
    "sns.heatmap(cm, annot=True, ax = ax,fmt='g',cmap = 'plasma')\n",
    "# labels, title and ticks\n",
    "ax.set_xlabel('Predicted labels')\n",
    "ax.set_ylabel('True labels');\n",
    "ax.set_title('Confusion Matrix')\n",
    "sns.set(font_scale=1.5)\n",
    "ax.xaxis.set_ticklabels(['Promoted', 'Not Promoted'])\n",
    "ax.yaxis.set_ticklabels(['Promoted', 'Not Promoted'])"
   ]
  },
  {
   "cell_type": "markdown",
   "id": "6bd0f243",
   "metadata": {},
   "source": [
    "Usando ela, podemos calcular a sensitividade e a precisão:"
   ]
  },
  {
   "cell_type": "code",
   "execution_count": 175,
   "id": "a7d8d56a",
   "metadata": {},
   "outputs": [
    {
     "name": "stdout",
     "output_type": "stream",
     "text": [
      "99.89 %\n"
     ]
    }
   ],
   "source": [
    "sensitividade = 12529/(12529 + 14)\n",
    "\n",
    "print(np.round(sensitividade,4)*100,\"%\")"
   ]
  },
  {
   "cell_type": "code",
   "execution_count": 176,
   "id": "838be544",
   "metadata": {},
   "outputs": [
    {
     "name": "stdout",
     "output_type": "stream",
     "text": [
      "92.63 %\n"
     ]
    }
   ],
   "source": [
    "precisao = 12529/(12529 + 997)\n",
    "print(np.round(precisao,4)*100,\"%\")"
   ]
  },
  {
   "cell_type": "markdown",
   "id": "716c6856",
   "metadata": {},
   "source": [
    "Observamos que a acurácia, precisão e sensitividade estão muito altas. Ou seja, o modelo conseguiu prever muito bem! No entanto, pode ser um caso de overfitting. Não é extremo, pois não obtivemos algo _muito_ ridículo como acurácia 99.99%, mas ainda sim é possível."
   ]
  },
  {
   "cell_type": "markdown",
   "id": "311e811d",
   "metadata": {},
   "source": [
    "Finalmente, vamos utilizar nosso modelo para gerar a coluna de ``is_promoted`` nos dados:"
   ]
  },
  {
   "cell_type": "code",
   "execution_count": 177,
   "id": "c310ad13",
   "metadata": {},
   "outputs": [],
   "source": [
    "dftest_encoding = pd.get_dummies(dftest)"
   ]
  },
  {
   "cell_type": "code",
   "execution_count": 178,
   "id": "c7396e6f",
   "metadata": {},
   "outputs": [],
   "source": [
    "is_promoted = rf.predict(dftest_encoding)"
   ]
  },
  {
   "cell_type": "code",
   "execution_count": 179,
   "id": "b8583be1",
   "metadata": {},
   "outputs": [],
   "source": [
    "is_promoted = pd.DataFrame(is_promoted)"
   ]
  },
  {
   "cell_type": "code",
   "execution_count": 188,
   "id": "caae111d",
   "metadata": {},
   "outputs": [],
   "source": [
    "is_promoted.set_index(dftest.index,inplace=True)"
   ]
  },
  {
   "cell_type": "code",
   "execution_count": 189,
   "id": "c578e959",
   "metadata": {},
   "outputs": [],
   "source": [
    "dftest['is_promoted'] = is_promoted"
   ]
  },
  {
   "cell_type": "code",
   "execution_count": 190,
   "id": "866518d8",
   "metadata": {},
   "outputs": [
    {
     "data": {
      "text/html": [
       "<div>\n",
       "<style scoped>\n",
       "    .dataframe tbody tr th:only-of-type {\n",
       "        vertical-align: middle;\n",
       "    }\n",
       "\n",
       "    .dataframe tbody tr th {\n",
       "        vertical-align: top;\n",
       "    }\n",
       "\n",
       "    .dataframe thead th {\n",
       "        text-align: right;\n",
       "    }\n",
       "</style>\n",
       "<table border=\"1\" class=\"dataframe\">\n",
       "  <thead>\n",
       "    <tr style=\"text-align: right;\">\n",
       "      <th></th>\n",
       "      <th>department</th>\n",
       "      <th>region</th>\n",
       "      <th>education</th>\n",
       "      <th>gender</th>\n",
       "      <th>recruitment_channel</th>\n",
       "      <th>no_of_trainings</th>\n",
       "      <th>age</th>\n",
       "      <th>previous_year_rating</th>\n",
       "      <th>length_of_service</th>\n",
       "      <th>awards_won?</th>\n",
       "      <th>avg_training_score</th>\n",
       "      <th>is_promoted</th>\n",
       "    </tr>\n",
       "    <tr>\n",
       "      <th>employee_id</th>\n",
       "      <th></th>\n",
       "      <th></th>\n",
       "      <th></th>\n",
       "      <th></th>\n",
       "      <th></th>\n",
       "      <th></th>\n",
       "      <th></th>\n",
       "      <th></th>\n",
       "      <th></th>\n",
       "      <th></th>\n",
       "      <th></th>\n",
       "      <th></th>\n",
       "    </tr>\n",
       "  </thead>\n",
       "  <tbody>\n",
       "    <tr>\n",
       "      <th>8724</th>\n",
       "      <td>Technology</td>\n",
       "      <td>region_26</td>\n",
       "      <td>Bachelor's</td>\n",
       "      <td>Male</td>\n",
       "      <td>sourcing</td>\n",
       "      <td>1.0</td>\n",
       "      <td>24</td>\n",
       "      <td>0.0</td>\n",
       "      <td>1</td>\n",
       "      <td>0</td>\n",
       "      <td>77.0</td>\n",
       "      <td>0</td>\n",
       "    </tr>\n",
       "    <tr>\n",
       "      <th>74430</th>\n",
       "      <td>HR</td>\n",
       "      <td>region_4</td>\n",
       "      <td>Bachelor's</td>\n",
       "      <td>Female</td>\n",
       "      <td>other</td>\n",
       "      <td>1.0</td>\n",
       "      <td>31</td>\n",
       "      <td>3.0</td>\n",
       "      <td>5</td>\n",
       "      <td>0</td>\n",
       "      <td>51.0</td>\n",
       "      <td>0</td>\n",
       "    </tr>\n",
       "    <tr>\n",
       "      <th>72255</th>\n",
       "      <td>Sales &amp; Marketing</td>\n",
       "      <td>region_13</td>\n",
       "      <td>Bachelor's</td>\n",
       "      <td>Male</td>\n",
       "      <td>other</td>\n",
       "      <td>1.0</td>\n",
       "      <td>31</td>\n",
       "      <td>1.0</td>\n",
       "      <td>4</td>\n",
       "      <td>0</td>\n",
       "      <td>47.0</td>\n",
       "      <td>0</td>\n",
       "    </tr>\n",
       "    <tr>\n",
       "      <th>38562</th>\n",
       "      <td>Procurement</td>\n",
       "      <td>region_2</td>\n",
       "      <td>Bachelor's</td>\n",
       "      <td>Female</td>\n",
       "      <td>other</td>\n",
       "      <td>0.0</td>\n",
       "      <td>31</td>\n",
       "      <td>2.0</td>\n",
       "      <td>9</td>\n",
       "      <td>0</td>\n",
       "      <td>65.0</td>\n",
       "      <td>0</td>\n",
       "    </tr>\n",
       "    <tr>\n",
       "      <th>64486</th>\n",
       "      <td>Finance</td>\n",
       "      <td>region_29</td>\n",
       "      <td>Bachelor's</td>\n",
       "      <td>Male</td>\n",
       "      <td>sourcing</td>\n",
       "      <td>1.0</td>\n",
       "      <td>30</td>\n",
       "      <td>4.0</td>\n",
       "      <td>7</td>\n",
       "      <td>0</td>\n",
       "      <td>61.0</td>\n",
       "      <td>0</td>\n",
       "    </tr>\n",
       "  </tbody>\n",
       "</table>\n",
       "</div>"
      ],
      "text/plain": [
       "                    department     region   education  gender  \\\n",
       "employee_id                                                     \n",
       "8724                Technology  region_26  Bachelor's    Male   \n",
       "74430                       HR   region_4  Bachelor's  Female   \n",
       "72255        Sales & Marketing  region_13  Bachelor's    Male   \n",
       "38562              Procurement   region_2  Bachelor's  Female   \n",
       "64486                  Finance  region_29  Bachelor's    Male   \n",
       "\n",
       "            recruitment_channel  no_of_trainings  age  previous_year_rating  \\\n",
       "employee_id                                                                   \n",
       "8724                   sourcing              1.0   24                   0.0   \n",
       "74430                     other              1.0   31                   3.0   \n",
       "72255                     other              1.0   31                   1.0   \n",
       "38562                     other              0.0   31                   2.0   \n",
       "64486                  sourcing              1.0   30                   4.0   \n",
       "\n",
       "             length_of_service  awards_won?  avg_training_score  is_promoted  \n",
       "employee_id                                                                   \n",
       "8724                         1            0                77.0            0  \n",
       "74430                        5            0                51.0            0  \n",
       "72255                        4            0                47.0            0  \n",
       "38562                        9            0                65.0            0  \n",
       "64486                        7            0                61.0            0  "
      ]
     },
     "execution_count": 190,
     "metadata": {},
     "output_type": "execute_result"
    }
   ],
   "source": [
    "dftest.head()"
   ]
  },
  {
   "cell_type": "code",
   "execution_count": 191,
   "id": "89304309",
   "metadata": {},
   "outputs": [
    {
     "data": {
      "text/html": [
       "<div>\n",
       "<style scoped>\n",
       "    .dataframe tbody tr th:only-of-type {\n",
       "        vertical-align: middle;\n",
       "    }\n",
       "\n",
       "    .dataframe tbody tr th {\n",
       "        vertical-align: top;\n",
       "    }\n",
       "\n",
       "    .dataframe thead th {\n",
       "        text-align: right;\n",
       "    }\n",
       "</style>\n",
       "<table border=\"1\" class=\"dataframe\">\n",
       "  <thead>\n",
       "    <tr style=\"text-align: right;\">\n",
       "      <th></th>\n",
       "      <th>no_of_trainings</th>\n",
       "      <th>age</th>\n",
       "      <th>previous_year_rating</th>\n",
       "      <th>length_of_service</th>\n",
       "      <th>awards_won?</th>\n",
       "      <th>avg_training_score</th>\n",
       "      <th>is_promoted</th>\n",
       "    </tr>\n",
       "  </thead>\n",
       "  <tbody>\n",
       "    <tr>\n",
       "      <th>count</th>\n",
       "      <td>23481.000000</td>\n",
       "      <td>23481.000000</td>\n",
       "      <td>23481.000000</td>\n",
       "      <td>23481.000000</td>\n",
       "      <td>23481.000000</td>\n",
       "      <td>23481.000000</td>\n",
       "      <td>23481.000000</td>\n",
       "    </tr>\n",
       "    <tr>\n",
       "      <th>mean</th>\n",
       "      <td>1.146288</td>\n",
       "      <td>34.782675</td>\n",
       "      <td>3.081513</td>\n",
       "      <td>5.810826</td>\n",
       "      <td>0.022486</td>\n",
       "      <td>63.265023</td>\n",
       "      <td>0.011201</td>\n",
       "    </tr>\n",
       "    <tr>\n",
       "      <th>std</th>\n",
       "      <td>0.678851</td>\n",
       "      <td>7.679626</td>\n",
       "      <td>1.505555</td>\n",
       "      <td>4.208441</td>\n",
       "      <td>0.148262</td>\n",
       "      <td>13.413604</td>\n",
       "      <td>0.105241</td>\n",
       "    </tr>\n",
       "    <tr>\n",
       "      <th>min</th>\n",
       "      <td>0.000000</td>\n",
       "      <td>20.000000</td>\n",
       "      <td>0.000000</td>\n",
       "      <td>1.000000</td>\n",
       "      <td>0.000000</td>\n",
       "      <td>39.000000</td>\n",
       "      <td>0.000000</td>\n",
       "    </tr>\n",
       "    <tr>\n",
       "      <th>25%</th>\n",
       "      <td>1.000000</td>\n",
       "      <td>29.000000</td>\n",
       "      <td>2.000000</td>\n",
       "      <td>3.000000</td>\n",
       "      <td>0.000000</td>\n",
       "      <td>51.000000</td>\n",
       "      <td>0.000000</td>\n",
       "    </tr>\n",
       "    <tr>\n",
       "      <th>50%</th>\n",
       "      <td>1.000000</td>\n",
       "      <td>33.000000</td>\n",
       "      <td>3.000000</td>\n",
       "      <td>5.000000</td>\n",
       "      <td>0.000000</td>\n",
       "      <td>60.000000</td>\n",
       "      <td>0.000000</td>\n",
       "    </tr>\n",
       "    <tr>\n",
       "      <th>75%</th>\n",
       "      <td>1.000000</td>\n",
       "      <td>39.000000</td>\n",
       "      <td>4.000000</td>\n",
       "      <td>7.000000</td>\n",
       "      <td>0.000000</td>\n",
       "      <td>76.000000</td>\n",
       "      <td>0.000000</td>\n",
       "    </tr>\n",
       "    <tr>\n",
       "      <th>max</th>\n",
       "      <td>9.000000</td>\n",
       "      <td>60.000000</td>\n",
       "      <td>5.000000</td>\n",
       "      <td>34.000000</td>\n",
       "      <td>1.000000</td>\n",
       "      <td>99.000000</td>\n",
       "      <td>1.000000</td>\n",
       "    </tr>\n",
       "  </tbody>\n",
       "</table>\n",
       "</div>"
      ],
      "text/plain": [
       "       no_of_trainings           age  previous_year_rating  length_of_service  \\\n",
       "count     23481.000000  23481.000000          23481.000000       23481.000000   \n",
       "mean          1.146288     34.782675              3.081513           5.810826   \n",
       "std           0.678851      7.679626              1.505555           4.208441   \n",
       "min           0.000000     20.000000              0.000000           1.000000   \n",
       "25%           1.000000     29.000000              2.000000           3.000000   \n",
       "50%           1.000000     33.000000              3.000000           5.000000   \n",
       "75%           1.000000     39.000000              4.000000           7.000000   \n",
       "max           9.000000     60.000000              5.000000          34.000000   \n",
       "\n",
       "        awards_won?  avg_training_score   is_promoted  \n",
       "count  23481.000000        23481.000000  23481.000000  \n",
       "mean       0.022486           63.265023      0.011201  \n",
       "std        0.148262           13.413604      0.105241  \n",
       "min        0.000000           39.000000      0.000000  \n",
       "25%        0.000000           51.000000      0.000000  \n",
       "50%        0.000000           60.000000      0.000000  \n",
       "75%        0.000000           76.000000      0.000000  \n",
       "max        1.000000           99.000000      1.000000  "
      ]
     },
     "execution_count": 191,
     "metadata": {},
     "output_type": "execute_result"
    }
   ],
   "source": [
    "dftest.describe()"
   ]
  },
  {
   "cell_type": "markdown",
   "id": "260637ff",
   "metadata": {},
   "source": [
    "Pronto! Agora fizemos as previsões que queríamos."
   ]
  }
 ],
 "metadata": {
  "kernelspec": {
   "display_name": "Python 3.11.0 64-bit",
   "language": "python",
   "name": "python3"
  },
  "language_info": {
   "codemirror_mode": {
    "name": "ipython",
    "version": 3
   },
   "file_extension": ".py",
   "mimetype": "text/x-python",
   "name": "python",
   "nbconvert_exporter": "python",
   "pygments_lexer": "ipython3",
   "version": "3.11.0"
  },
  "vscode": {
   "interpreter": {
    "hash": "17ccc96a543a1605df89f3fd5d0f6f055d34cf1ddf4f0f4c7da1e3b3db6dd565"
   }
  }
 },
 "nbformat": 4,
 "nbformat_minor": 5
}
